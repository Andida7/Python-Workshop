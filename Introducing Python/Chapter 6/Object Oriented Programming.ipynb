{
 "cells": [
  {
   "cell_type": "markdown",
   "metadata": {},
   "source": [
    "## Defining Classes"
   ]
  },
  {
   "cell_type": "markdown",
   "metadata": {},
   "source": [
    "Python is an object-oriented programming language. So far, we have used a number of built-in classes to show examples of data and control structures. One of the most powerful features in an object-oriented programming language is the ability to allow a programmer (problem solver) to create new classes that models the data that is needed to solve the problem.\n",
    "\n",
    "Remember that we use abstract data types to provide the logical description of what a data object looks like (its state) and what it can do (its methods). By building a class that implements an abstract data type, a programmer can take advantage of the abstraction process and at the same time provide the details necessary to actually use the abstraction in a program. Whenever we want to implement an abstract data type, we will do so with a new class."
   ]
  },
  {
   "cell_type": "markdown",
   "metadata": {},
   "source": [
    "#### Define Our First Class"
   ]
  },
  {
   "cell_type": "code",
   "execution_count": 1,
   "metadata": {
    "collapsed": false
   },
   "outputs": [
    {
     "data": {
      "text/plain": [
       "'Rick'"
      ]
     },
     "execution_count": 1,
     "metadata": {},
     "output_type": "execute_result"
    }
   ],
   "source": [
    "class Student():\n",
    "    def __init__(self, name):\n",
    "        self.name = name\n",
    "\n",
    "student = Student('Rick')\n",
    "student.name"
   ]
  },
  {
   "cell_type": "markdown",
   "metadata": {},
   "source": [
    "#### Overriding Methods\n",
    "A child class inherits everything from its parent class. But the methods of the Parent class can be overridden.\n",
    "All the methods including the init method can be overriden."
   ]
  },
  {
   "cell_type": "code",
   "execution_count": 9,
   "metadata": {
    "collapsed": true
   },
   "outputs": [],
   "source": [
    "class Faculty():\n",
    "    def __init__(self, name):\n",
    "        self.name = name\n",
    "class Doctor(Faculty):\n",
    "    def __init__(self, name):\n",
    "        self.name = 'Doctor ' + name\n",
    "class Professor(Faculty):\n",
    "    def __init__(self, name):\n",
    "        self.name = 'Professor ' + name\n",
    "\n",
    "Brown = Faculty('Brown')\n",
    "Felicia = Doctor('Felicia')\n",
    "Warren = Professor('Warren')"
   ]
  },
  {
   "cell_type": "markdown",
   "metadata": {},
   "source": [
    "We have overriden the Faculty class's init method in the child classes Doctor and Professor as seen above. Now let's see how they work."
   ]
  },
  {
   "cell_type": "code",
   "execution_count": 10,
   "metadata": {
    "collapsed": false
   },
   "outputs": [
    {
     "data": {
      "text/plain": [
       "<__main__.Faculty at 0x1679b3732b0>"
      ]
     },
     "execution_count": 10,
     "metadata": {},
     "output_type": "execute_result"
    }
   ],
   "source": [
    "# Brown is a faculty of Type \"Faculty\"\n",
    "Brown"
   ]
  },
  {
   "cell_type": "code",
   "execution_count": 12,
   "metadata": {
    "collapsed": false
   },
   "outputs": [
    {
     "data": {
      "text/plain": [
       "'Brown'"
      ]
     },
     "execution_count": 12,
     "metadata": {},
     "output_type": "execute_result"
    }
   ],
   "source": [
    "# Getting the name\n",
    "Brown.name"
   ]
  },
  {
   "cell_type": "markdown",
   "metadata": {},
   "source": [
    "No titles have been added to the name property as per the method definition in the parent Faculty class. Now let's look at the child classes."
   ]
  },
  {
   "cell_type": "code",
   "execution_count": 13,
   "metadata": {
    "collapsed": false
   },
   "outputs": [
    {
     "data": {
      "text/plain": [
       "<__main__.Doctor at 0x1679b373320>"
      ]
     },
     "execution_count": 13,
     "metadata": {},
     "output_type": "execute_result"
    }
   ],
   "source": [
    "# Felicia is a faculty of type Doctor\n",
    "Felicia"
   ]
  },
  {
   "cell_type": "code",
   "execution_count": 16,
   "metadata": {
    "collapsed": false
   },
   "outputs": [
    {
     "data": {
      "text/plain": [
       "'Doctor Felicia'"
      ]
     },
     "execution_count": 16,
     "metadata": {},
     "output_type": "execute_result"
    }
   ],
   "source": [
    "# Getting the name\n",
    "Felicia.name"
   ]
  },
  {
   "cell_type": "markdown",
   "metadata": {},
   "source": [
    "Here, the title String \"Doctor\" has been added to the name property. And this was done by overriding the init method of the Parent class. The same should work for the child class \"Professor\" as well."
   ]
  },
  {
   "cell_type": "code",
   "execution_count": 17,
   "metadata": {
    "collapsed": false
   },
   "outputs": [
    {
     "data": {
      "text/plain": [
       "<__main__.Professor at 0x1679b373390>"
      ]
     },
     "execution_count": 17,
     "metadata": {},
     "output_type": "execute_result"
    }
   ],
   "source": [
    "# Warren is a faculty of type Professor\n",
    "Warren"
   ]
  },
  {
   "cell_type": "code",
   "execution_count": 18,
   "metadata": {
    "collapsed": false
   },
   "outputs": [
    {
     "data": {
      "text/plain": [
       "'Professor Warren'"
      ]
     },
     "execution_count": 18,
     "metadata": {},
     "output_type": "execute_result"
    }
   ],
   "source": [
    "# Getting the name\n",
    "Warren.name"
   ]
  },
  {
   "cell_type": "markdown",
   "metadata": {},
   "source": [
    "It works as expected!!"
   ]
  },
  {
   "cell_type": "markdown",
   "metadata": {},
   "source": [
    "### Adding a method to the Child Class\n",
    "A child class could also add a method that is not there as part of the Parent's class definition."
   ]
  },
  {
   "cell_type": "code",
   "execution_count": 34,
   "metadata": {
    "collapsed": true
   },
   "outputs": [],
   "source": [
    "class Faculty():\n",
    "    def __init__(self, name):\n",
    "        self.name = name\n",
    "class Doctor(Faculty):\n",
    "    def __init__(self, name):\n",
    "        self.name = 'Doctor ' + name\n",
    "    def teach(self):\n",
    "        print(self.name,'teaches Graduates.')\n",
    "class Professor(Faculty):\n",
    "    def __init__(self, name):\n",
    "        self.name = 'Professor ' + name\n",
    "    def teach(self):\n",
    "        print(self.name,'teaches Undergrads.')"
   ]
  },
  {
   "cell_type": "code",
   "execution_count": 35,
   "metadata": {
    "collapsed": true
   },
   "outputs": [],
   "source": [
    "Rick = Professor('Rick')"
   ]
  },
  {
   "cell_type": "code",
   "execution_count": 36,
   "metadata": {
    "collapsed": false
   },
   "outputs": [
    {
     "name": "stdout",
     "output_type": "stream",
     "text": [
      "Professor Rick teaches Undergrads.\n"
     ]
    }
   ],
   "source": [
    "Rick.teach()"
   ]
  },
  {
   "cell_type": "markdown",
   "metadata": {},
   "source": [
    "#### Using Super()\n",
    "When the behavior of the parent is required by the child on one of the overriden methods, the super() method can be used to invoke the parent class' method."
   ]
  },
  {
   "cell_type": "code",
   "execution_count": 46,
   "metadata": {
    "collapsed": true
   },
   "outputs": [],
   "source": [
    "class Faculty():\n",
    "    def __init__(self, name):\n",
    "        self.name = 'Professor ' + name\n",
    "    \n",
    "class Professor(Faculty):\n",
    "    def __init__(self, name, email):\n",
    "        super().__init__(name)\n",
    "        self.email = email    "
   ]
  },
  {
   "cell_type": "code",
   "execution_count": 47,
   "metadata": {
    "collapsed": false
   },
   "outputs": [],
   "source": [
    "Rick = Professor('Rick', 'rick@univ.edu')"
   ]
  },
  {
   "cell_type": "code",
   "execution_count": 48,
   "metadata": {
    "collapsed": false
   },
   "outputs": [
    {
     "data": {
      "text/plain": [
       "'Professor Rick'"
      ]
     },
     "execution_count": 48,
     "metadata": {},
     "output_type": "execute_result"
    }
   ],
   "source": [
    "Rick.name"
   ]
  },
  {
   "cell_type": "markdown",
   "metadata": {},
   "source": [
    "#### Types of Methods\n",
    "\n",
    "There are three types of methods in classes\n",
    "\n",
    "1. Class methods,\n",
    "2. Instance methods and \n",
    "3. Static methods.\n",
    "\n",
    "The way to differentiate between them is by using the \"self\" argument. When we encounter a self argument in the methods within the class, we can conclude that they are <b>instance methods.</b>\n",
    "\n",
    "The first argument to an instance method is always self, and whenever these instance methods are called (with the objects using <i>dot notation</i> method of calling), the object itself is passed to the method.\n",
    "\n",
    "Instance method only affect the object instance calling them. Whereas, a class method affects the entire class. Any change made to the class affects all the objects."
   ]
  },
  {
   "cell_type": "code",
   "execution_count": 60,
   "metadata": {
    "collapsed": true
   },
   "outputs": [],
   "source": [
    "class Car():\n",
    "    count = 0\n",
    "    def __init__(self):\n",
    "        Car.count += 1\n",
    "    @classmethod\n",
    "    def car_counter(cls):\n",
    "        print(\"Car has\",cls.count, \"models\")    "
   ]
  },
  {
   "cell_type": "code",
   "execution_count": 61,
   "metadata": {
    "collapsed": false
   },
   "outputs": [],
   "source": [
    "my_ride_y = Car()\n",
    "swish_by = Car()"
   ]
  },
  {
   "cell_type": "code",
   "execution_count": 62,
   "metadata": {
    "collapsed": false
   },
   "outputs": [
    {
     "name": "stdout",
     "output_type": "stream",
     "text": [
      "Car has 2 models\n"
     ]
    }
   ],
   "source": [
    "# Class methods can be invoked by class instances\n",
    "my_ride_y.car_counter()"
   ]
  },
  {
   "cell_type": "code",
   "execution_count": 63,
   "metadata": {
    "collapsed": false
   },
   "outputs": [
    {
     "name": "stdout",
     "output_type": "stream",
     "text": [
      "Car has 2 models\n"
     ]
    }
   ],
   "source": [
    "# It can be invoked by the class as well.\n",
    "Car.car_counter()"
   ]
  },
  {
   "cell_type": "markdown",
   "metadata": {},
   "source": [
    "##### Static Methods"
   ]
  },
  {
   "cell_type": "code",
   "execution_count": 67,
   "metadata": {
    "collapsed": false
   },
   "outputs": [
    {
     "name": "stdout",
     "output_type": "stream",
     "text": [
      "All these cars are for sale!!\n"
     ]
    }
   ],
   "source": [
    "class Car():\n",
    "    @staticmethod\n",
    "    def promo():\n",
    "        print('All these cars are for sale!!')\n",
    "Car.promo()"
   ]
  },
  {
   "cell_type": "markdown",
   "metadata": {},
   "source": [
    "Notice that we did not have to create objects of the class to access this method. Static methods do not have access to instance attributes or class attributes."
   ]
  },
  {
   "cell_type": "code",
   "execution_count": null,
   "metadata": {
    "collapsed": true
   },
   "outputs": [],
   "source": []
  },
  {
   "cell_type": "code",
   "execution_count": null,
   "metadata": {
    "collapsed": true
   },
   "outputs": [],
   "source": []
  }
 ],
 "metadata": {
  "anaconda-cloud": {},
  "kernelspec": {
   "display_name": "Python [conda env:data]",
   "language": "python",
   "name": "conda-env-data-py"
  },
  "language_info": {
   "codemirror_mode": {
    "name": "ipython",
    "version": 3
   },
   "file_extension": ".py",
   "mimetype": "text/x-python",
   "name": "python",
   "nbconvert_exporter": "python",
   "pygments_lexer": "ipython3",
   "version": "3.5.3"
  }
 },
 "nbformat": 4,
 "nbformat_minor": 1
}
