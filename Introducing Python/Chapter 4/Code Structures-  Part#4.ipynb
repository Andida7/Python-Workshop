{
 "cells": [
  {
   "cell_type": "markdown",
   "metadata": {},
   "source": [
    "### Demonstrating Global Variables"
   ]
  },
  {
   "cell_type": "code",
   "execution_count": 1,
   "metadata": {
    "collapsed": false
   },
   "outputs": [
    {
     "name": "stdout",
     "output_type": "stream",
     "text": [
      "I am a Global Variable and I am all over the place\n"
     ]
    }
   ],
   "source": [
    "g_variable = 'I am all over the place'\n",
    "\n",
    "def simple_func():\n",
    "    print('Global Variable says', g_variable)\n",
    "\n",
    "print('I am a Global Variable and', g_variable)"
   ]
  },
  {
   "cell_type": "code",
   "execution_count": 2,
   "metadata": {
    "collapsed": false
   },
   "outputs": [
    {
     "name": "stdout",
     "output_type": "stream",
     "text": [
      "Global Variable says I am all over the place\n"
     ]
    }
   ],
   "source": [
    "simple_func()"
   ]
  },
  {
   "cell_type": "markdown",
   "metadata": {},
   "source": [
    "But, if we try to get the value of the global variable (i.e. call the global variable and get its value) and change its value assignment inside the function, we get an error:"
   ]
  },
  {
   "cell_type": "code",
   "execution_count": 7,
   "metadata": {
    "collapsed": true
   },
   "outputs": [],
   "source": [
    "def tamper_with_global_variable():\n",
    "    print('Global Variable says', g_variable) # get the global variable\n",
    "    g_variable = 'This is from the inside!!'\n",
    "    print(g_variable)"
   ]
  },
  {
   "cell_type": "code",
   "execution_count": 4,
   "metadata": {
    "collapsed": false
   },
   "outputs": [
    {
     "ename": "UnboundLocalError",
     "evalue": "local variable 'g_variable' referenced before assignment",
     "output_type": "error",
     "traceback": [
      "\u001b[1;31m---------------------------------------------------------------------------\u001b[0m",
      "\u001b[1;31mUnboundLocalError\u001b[0m                         Traceback (most recent call last)",
      "\u001b[1;32m<ipython-input-4-951baea85ccc>\u001b[0m in \u001b[0;36m<module>\u001b[1;34m()\u001b[0m\n\u001b[1;32m----> 1\u001b[1;33m \u001b[0mtamper_with_global_variable\u001b[0m\u001b[1;33m(\u001b[0m\u001b[1;33m)\u001b[0m\u001b[1;33m\u001b[0m\u001b[0m\n\u001b[0m",
      "\u001b[1;32m<ipython-input-3-c2dfda5bb002>\u001b[0m in \u001b[0;36mtamper_with_global_variable\u001b[1;34m()\u001b[0m\n\u001b[0;32m      1\u001b[0m \u001b[1;32mdef\u001b[0m \u001b[0mtamper_with_global_variable\u001b[0m\u001b[1;33m(\u001b[0m\u001b[1;33m)\u001b[0m\u001b[1;33m:\u001b[0m\u001b[1;33m\u001b[0m\u001b[0m\n\u001b[1;32m----> 2\u001b[1;33m     \u001b[0mprint\u001b[0m\u001b[1;33m(\u001b[0m\u001b[1;34m'Global Variable says'\u001b[0m\u001b[1;33m,\u001b[0m \u001b[0mg_variable\u001b[0m\u001b[1;33m)\u001b[0m\u001b[1;33m\u001b[0m\u001b[0m\n\u001b[0m\u001b[0;32m      3\u001b[0m     \u001b[0mg_variable\u001b[0m \u001b[1;33m=\u001b[0m \u001b[1;34m'This is from the inside!!'\u001b[0m\u001b[1;33m\u001b[0m\u001b[0m\n\u001b[0;32m      4\u001b[0m     \u001b[0mprint\u001b[0m\u001b[1;33m(\u001b[0m\u001b[0mg_variable\u001b[0m\u001b[1;33m)\u001b[0m\u001b[1;33m\u001b[0m\u001b[0m\n",
      "\u001b[1;31mUnboundLocalError\u001b[0m: local variable 'g_variable' referenced before assignment"
     ]
    }
   ],
   "source": [
    "tamper_with_global_variable()"
   ]
  },
  {
   "cell_type": "markdown",
   "metadata": {},
   "source": [
    "If we just change it, it changes. Though the names are the same, it works as we are not getting the global variable before changing it."
   ]
  },
  {
   "cell_type": "code",
   "execution_count": 8,
   "metadata": {
    "collapsed": true
   },
   "outputs": [],
   "source": [
    "def change_local():\n",
    "    # We are not getting the global variable here\n",
    "    # We are directly assigning a value to the name g_variable\n",
    "    g_variable = 'Now I am changed!'\n",
    "    print('Local Variable says', g_variable)"
   ]
  },
  {
   "cell_type": "markdown",
   "metadata": {},
   "source": [
    "The g_variable in the change_local() function, although has the same name as its global counterpart are referring to completely different objects this time and they are in two different namespaces."
   ]
  },
  {
   "cell_type": "code",
   "execution_count": 9,
   "metadata": {
    "collapsed": false
   },
   "outputs": [
    {
     "name": "stdout",
     "output_type": "stream",
     "text": [
      "Local Variable says Now I am changed!\n"
     ]
    }
   ],
   "source": [
    "change_local() # This should print the new value"
   ]
  },
  {
   "cell_type": "markdown",
   "metadata": {},
   "source": [
    "### Use id() to print the unique value for each object "
   ]
  },
  {
   "cell_type": "code",
   "execution_count": 10,
   "metadata": {
    "collapsed": false
   },
   "outputs": [
    {
     "name": "stdout",
     "output_type": "stream",
     "text": [
      "Local Variable with a value 1271411673464 says Now I am changed!\n"
     ]
    }
   ],
   "source": [
    "def one_more_time():\n",
    "    g_variable = 'Now I am changed!'\n",
    "    print('Local Variable with a value',id(g_variable),'says', g_variable)\n",
    "one_more_time()"
   ]
  },
  {
   "cell_type": "code",
   "execution_count": 11,
   "metadata": {
    "collapsed": false
   },
   "outputs": [
    {
     "data": {
      "text/plain": [
       "1271410191432"
      ]
     },
     "execution_count": 11,
     "metadata": {},
     "output_type": "execute_result"
    }
   ],
   "source": [
    "# Lets get the id of the actual global variable too.\n",
    "id(g_variable)"
   ]
  },
  {
   "cell_type": "markdown",
   "metadata": {},
   "source": [
    "As we can see, they are two different objects now."
   ]
  },
  {
   "cell_type": "markdown",
   "metadata": {},
   "source": [
    "Python provides two functions to access the contents of your namespaces:\n",
    "1. locals() returns a dictionary of the contents of the local namespace.\n",
    "2. globals() returns a dictionary of the contents of the global namespace."
   ]
  },
  {
   "cell_type": "code",
   "execution_count": 14,
   "metadata": {
    "collapsed": false
   },
   "outputs": [
    {
     "name": "stdout",
     "output_type": "stream",
     "text": [
      "globals {'change_local': <function change_local at 0x00000128060D76A8>, '__loader__': None, 'Out': {11: 1271410191432}, 'exit': <IPython.core.autocall.ZMQExitAutocall object at 0x0000012804E39B00>, 'quit': <IPython.core.autocall.ZMQExitAutocall object at 0x0000012804E39B00>, '_i13': 'Python provides two functions to access the contents of your namespaces:\\n• locals() returns a dictionary of the contents of the local namespace.\\n• globals() returns a dictionary of the contents of the global namespace.', '_ii': 'As we can see, they are two different objects now.', '_dh': ['C:\\\\Users\\\\rhomi\\\\Documents\\\\GitHub\\\\Python-Workshop\\\\Introducing Python\\\\Chapter 4'], '__builtins__': <module 'builtins' (built-in)>, 'one_more_time': <function one_more_time at 0x00000128060CAC80>, '__name__': '__main__', '__package__': None, '___': '', '_i11': '# Lets get the id of the actual global variable too.\\nid(g_variable)', 'In': ['', \"g_variable = 'I am all over the place'\\n\\ndef simple_func():\\n    print('Global Variable says', g_variable)\\n\\nprint('I am a Global Variable and', g_variable)\", 'simple_func()', \"def tamper_with_global_variable():\\n    print('Global Variable says', g_variable)\\n    g_variable = 'This is from the inside!!'\\n    print(g_variable)\", 'tamper_with_global_variable()', \"def change_local():\\n    g_variable = 'Now I am changed!'\\n    print('Local Variable says', g_variable)\", 'change_local()', \"def tamper_with_global_variable():\\n    print('Global Variable says', g_variable)\\n    g_variable = 'This is from the inside!!'\\n    print(g_variable)\", \"def change_local():\\n    # We are not getting the global variable here\\n    # We are directly assigning a value to the name g_variable\\n    g_variable = 'Now I am changed!'\\n    print('Local Variable says', g_variable)\", 'change_local()', \"def one_more_time():\\n    g_variable = 'Now I am changed!'\\n    print('Local Variable with a value',id(g_variable),'says', g_variable)\\none_more_time()\", '# Lets get the id of the actual global variable too.\\nid(g_variable)', 'As we can see, they are two different objects now.', 'Python provides two functions to access the contents of your namespaces:\\n• locals() returns a dictionary of the contents of the local namespace.\\n• globals() returns a dictionary of the contents of the global namespace.', \"print('globals',globals())\"], '_i': 'Python provides two functions to access the contents of your namespaces:\\n• locals() returns a dictionary of the contents of the local namespace.\\n• globals() returns a dictionary of the contents of the global namespace.', 'get_ipython': <bound method InteractiveShell.get_ipython of <ipykernel.zmqshell.ZMQInteractiveShell object at 0x0000012804DD5E48>>, '_oh': {11: 1271410191432}, '_ih': ['', \"g_variable = 'I am all over the place'\\n\\ndef simple_func():\\n    print('Global Variable says', g_variable)\\n\\nprint('I am a Global Variable and', g_variable)\", 'simple_func()', \"def tamper_with_global_variable():\\n    print('Global Variable says', g_variable)\\n    g_variable = 'This is from the inside!!'\\n    print(g_variable)\", 'tamper_with_global_variable()', \"def change_local():\\n    g_variable = 'Now I am changed!'\\n    print('Local Variable says', g_variable)\", 'change_local()', \"def tamper_with_global_variable():\\n    print('Global Variable says', g_variable)\\n    g_variable = 'This is from the inside!!'\\n    print(g_variable)\", \"def change_local():\\n    # We are not getting the global variable here\\n    # We are directly assigning a value to the name g_variable\\n    g_variable = 'Now I am changed!'\\n    print('Local Variable says', g_variable)\", 'change_local()', \"def one_more_time():\\n    g_variable = 'Now I am changed!'\\n    print('Local Variable with a value',id(g_variable),'says', g_variable)\\none_more_time()\", '# Lets get the id of the actual global variable too.\\nid(g_variable)', 'As we can see, they are two different objects now.', 'Python provides two functions to access the contents of your namespaces:\\n• locals() returns a dictionary of the contents of the local namespace.\\n• globals() returns a dictionary of the contents of the global namespace.', \"print('globals',globals())\"], '_i8': \"def change_local():\\n    # We are not getting the global variable here\\n    # We are directly assigning a value to the name g_variable\\n    g_variable = 'Now I am changed!'\\n    print('Local Variable says', g_variable)\", '_i1': \"g_variable = 'I am all over the place'\\n\\ndef simple_func():\\n    print('Global Variable says', g_variable)\\n\\nprint('I am a Global Variable and', g_variable)\", 'simple_func': <function simple_func at 0x0000012805FB98C8>, '__doc__': 'Automatically created module for IPython interactive environment', '_i6': 'change_local()', '_i9': 'change_local()', '_i2': 'simple_func()', '__': '', '_i7': \"def tamper_with_global_variable():\\n    print('Global Variable says', g_variable)\\n    g_variable = 'This is from the inside!!'\\n    print(g_variable)\", '_i5': \"def change_local():\\n    g_variable = 'Now I am changed!'\\n    print('Local Variable says', g_variable)\", '__builtin__': <module 'builtins' (built-in)>, '_i14': \"print('globals',globals())\", 'tamper_with_global_variable': <function tamper_with_global_variable at 0x00000128060CAF28>, '__spec__': None, '_11': 1271410191432, '_i12': 'As we can see, they are two different objects now.', '_iii': '# Lets get the id of the actual global variable too.\\nid(g_variable)', '_i10': \"def one_more_time():\\n    g_variable = 'Now I am changed!'\\n    print('Local Variable with a value',id(g_variable),'says', g_variable)\\none_more_time()\", '_i3': \"def tamper_with_global_variable():\\n    print('Global Variable says', g_variable)\\n    g_variable = 'This is from the inside!!'\\n    print(g_variable)\", 'g_variable': 'I am all over the place', '_i4': 'tamper_with_global_variable()', '_': 1271410191432}\n"
     ]
    }
   ],
   "source": [
    "print('globals',globals())"
   ]
  },
  {
   "cell_type": "markdown",
   "metadata": {},
   "source": [
    "The globals() function will return all the global names in the current program as seen in the huge dictionary above."
   ]
  },
  {
   "cell_type": "code",
   "execution_count": 19,
   "metadata": {
    "collapsed": false
   },
   "outputs": [
    {
     "name": "stdout",
     "output_type": "stream",
     "text": [
      "Local Variable with a value 1271412161320 says Now I am changed!\n",
      "Local names are {'g_variable': 'Now I am changed!'}\n"
     ]
    }
   ],
   "source": [
    "# Lets see how locals() work\n",
    "def yet_again():\n",
    "    g_variable = 'Now I am changed!'\n",
    "    print('Local Variable with a value',id(g_variable),'says', g_variable)\n",
    "    print('Local names are', locals())\n",
    "yet_again()"
   ]
  },
  {
   "cell_type": "markdown",
   "metadata": {},
   "source": [
    "The local namespace within yet_again() contained only the local variable\n",
    "g_variable. The global namespace contained the separate global variable g_variable and a\n",
    "number of other things."
   ]
  },
  {
   "cell_type": "code",
   "execution_count": null,
   "metadata": {
    "collapsed": true
   },
   "outputs": [],
   "source": []
  },
  {
   "cell_type": "code",
   "execution_count": null,
   "metadata": {
    "collapsed": true
   },
   "outputs": [],
   "source": []
  },
  {
   "cell_type": "markdown",
   "metadata": {},
   "source": [
    "### So how do we solve the error we saw earlier?\n",
    "To access the global variable rather than the local variable within a function, we need to be\n",
    "explicit and use the global keyword.\n",
    "\n",
    "Lets try and change the global variable from inside the function. Before that, we'll print the global variable to see what it currently holds."
   ]
  },
  {
   "cell_type": "code",
   "execution_count": 21,
   "metadata": {
    "collapsed": false
   },
   "outputs": [
    {
     "data": {
      "text/plain": [
       "'I am all over the place'"
      ]
     },
     "execution_count": 21,
     "metadata": {},
     "output_type": "execute_result"
    }
   ],
   "source": [
    "g_variable"
   ]
  },
  {
   "cell_type": "code",
   "execution_count": 22,
   "metadata": {
    "collapsed": true
   },
   "outputs": [],
   "source": [
    "# Its still the same. So lets change it."
   ]
  },
  {
   "cell_type": "code",
   "execution_count": 27,
   "metadata": {
    "collapsed": true
   },
   "outputs": [],
   "source": [
    "def change_now():\n",
    "    global g_variable\n",
    "    g_variable = 'At last its changed'\n",
    "    print('From inside the function -', g_variable)"
   ]
  },
  {
   "cell_type": "code",
   "execution_count": 28,
   "metadata": {
    "collapsed": false
   },
   "outputs": [
    {
     "name": "stdout",
     "output_type": "stream",
     "text": [
      "From inside the function - At last its changed\n"
     ]
    }
   ],
   "source": [
    "change_now()"
   ]
  },
  {
   "cell_type": "code",
   "execution_count": 29,
   "metadata": {
    "collapsed": false
   },
   "outputs": [
    {
     "data": {
      "text/plain": [
       "'At last its changed'"
      ]
     },
     "execution_count": 29,
     "metadata": {},
     "output_type": "execute_result"
    }
   ],
   "source": [
    "# Print the global variable now\n",
    "g_variable"
   ]
  },
  {
   "cell_type": "markdown",
   "metadata": {},
   "source": [
    "So, we can access and change the value of a global variable from inside a function using global keyword."
   ]
  },
  {
   "cell_type": "code",
   "execution_count": null,
   "metadata": {
    "collapsed": true
   },
   "outputs": [],
   "source": []
  }
 ],
 "metadata": {
  "kernelspec": {
   "display_name": "Python [conda env:data]",
   "language": "python",
   "name": "conda-env-data-py"
  },
  "language_info": {
   "codemirror_mode": {
    "name": "ipython",
    "version": 3
   },
   "file_extension": ".py",
   "mimetype": "text/x-python",
   "name": "python",
   "nbconvert_exporter": "python",
   "pygments_lexer": "ipython3",
   "version": "3.5.3"
  }
 },
 "nbformat": 4,
 "nbformat_minor": 1
}
