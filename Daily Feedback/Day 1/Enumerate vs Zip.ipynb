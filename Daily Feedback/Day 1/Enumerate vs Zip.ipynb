{
 "cells": [
  {
   "cell_type": "markdown",
   "metadata": {},
   "source": [
    "### The Enumerate Function\n",
    "\n",
    "The enumerate() function is used to iterate over both indices and items of a list."
   ]
  },
  {
   "cell_type": "code",
   "execution_count": 12,
   "metadata": {
    "collapsed": false
   },
   "outputs": [
    {
     "name": "stdout",
     "output_type": "stream",
     "text": [
      "(0, 'tiramisu')\n",
      "(1, 'ice cream')\n",
      "(2, 'pie')\n",
      "(3, 'pudding')\n"
     ]
    }
   ],
   "source": [
    "# Example\n",
    "alist = desserts = ['tiramisu', 'ice cream', 'pie', 'pudding']\n",
    "\n",
    "# We can iterate over this list using enumerate as follows:\n",
    "for item in enumerate(alist):\n",
    "    print(item)"
   ]
  },
  {
   "cell_type": "markdown",
   "metadata": {},
   "source": [
    "The function returns both the indices and the items of the list together. Let's check the type of it using type()"
   ]
  },
  {
   "cell_type": "code",
   "execution_count": 14,
   "metadata": {
    "collapsed": false
   },
   "outputs": [
    {
     "name": "stdout",
     "output_type": "stream",
     "text": [
      "(0, 'tiramisu')\n",
      "<class 'tuple'>\n",
      "(1, 'ice cream')\n",
      "<class 'tuple'>\n",
      "(2, 'pie')\n",
      "<class 'tuple'>\n",
      "(3, 'pudding')\n",
      "<class 'tuple'>\n"
     ]
    }
   ],
   "source": [
    "for item in enumerate(alist):\n",
    "    print(item)\n",
    "    print(type(item))"
   ]
  },
  {
   "cell_type": "markdown",
   "metadata": {},
   "source": [
    "It is of type tuple. We can see that tuple is very much a part of Python's implementation detail concerning most code constructs. Alright, now that we have seen that, we can separate the index and items also like this."
   ]
  },
  {
   "cell_type": "code",
   "execution_count": 16,
   "metadata": {
    "collapsed": false
   },
   "outputs": [
    {
     "name": "stdout",
     "output_type": "stream",
     "text": [
      "0 tiramisu\n",
      "1 ice cream\n",
      "2 pie\n",
      "3 pudding\n"
     ]
    }
   ],
   "source": [
    "# indices and items can be printed like this as well.\n",
    "for i,x in enumerate(alist):\n",
    "    print(i,x)"
   ]
  },
  {
   "cell_type": "markdown",
   "metadata": {},
   "source": [
    "### Zip Method\n",
    "We have seen in our previous exercises that zip() can be used to iterate over multiple lists in parallel."
   ]
  },
  {
   "cell_type": "code",
   "execution_count": 17,
   "metadata": {
    "collapsed": false
   },
   "outputs": [
    {
     "name": "stdout",
     "output_type": "stream",
     "text": [
      "On Mondays, I eat banana with coffee and have tiramisu for dessert.\n",
      "On Tuesdays, I eat orange with tea and have ice cream for dessert.\n",
      "On Wednesdays, I eat peach with beer and have pie for dessert.\n"
     ]
    }
   ],
   "source": [
    "days = ['Monday', 'Tuesday', 'Wednesday']\n",
    "fruits = ['banana', 'orange', 'peach']\n",
    "drinks = ['coffee', 'tea', 'beer']\n",
    "desserts = ['tiramisu', 'ice cream', 'pie', 'pudding']\n",
    "for day, fruit, drink, dessert in zip(days, fruits, drinks, desserts):\n",
    "    print('On {}s, I eat {} with {} and have {} for dessert.'.format(day,fruit,drink,dessert))"
   ]
  },
  {
   "cell_type": "markdown",
   "metadata": {},
   "source": [
    "And from our previous discussions, we also know that zip stops with the shortest list in the lot. So, lets try and use zip and enumerate together."
   ]
  },
  {
   "cell_type": "code",
   "execution_count": 19,
   "metadata": {
    "collapsed": false
   },
   "outputs": [
    {
     "name": "stdout",
     "output_type": "stream",
     "text": [
      "0 Monday banana coffee tiramisu\n",
      "1 Tuesday orange tea ice cream\n",
      "2 Wednesday peach beer pie\n"
     ]
    }
   ],
   "source": [
    "for i, (day, fruit, drink, dessert) in enumerate(zip(days, fruits, drinks, desserts)):\n",
    "    print(i, day, fruit, drink, dessert)"
   ]
  },
  {
   "cell_type": "markdown",
   "metadata": {},
   "source": [
    "This example also helps demonstrate the fact that the zip() method goes after one index position from all the lists at the same time. After zipping through indices 0,1 and 2 it stops iterating as the shortest among the four only has a length of 3 items. Unforunately 'pudding' is at index position 3 in the desserts list and gets cut off."
   ]
  },
  {
   "cell_type": "code",
   "execution_count": null,
   "metadata": {
    "collapsed": true
   },
   "outputs": [],
   "source": []
  }
 ],
 "metadata": {
  "kernelspec": {
   "display_name": "Python [conda env:data]",
   "language": "python",
   "name": "conda-env-data-py"
  },
  "language_info": {
   "codemirror_mode": {
    "name": "ipython",
    "version": 3
   },
   "file_extension": ".py",
   "mimetype": "text/x-python",
   "name": "python",
   "nbconvert_exporter": "python",
   "pygments_lexer": "ipython3",
   "version": "3.5.3"
  }
 },
 "nbformat": 4,
 "nbformat_minor": 1
}
