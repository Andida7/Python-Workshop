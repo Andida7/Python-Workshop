{
 "cells": [
  {
   "cell_type": "code",
   "execution_count": 15,
   "metadata": {
    "collapsed": false
   },
   "outputs": [],
   "source": [
    "%matplotlib inline\n",
    "import numpy as np"
   ]
  },
  {
   "cell_type": "markdown",
   "metadata": {},
   "source": [
    "## 1. numpy.argsort\n",
    "Numpy argsort is used to return the indices that would sort an array. Using this information we could sort a corresponding array that may have data related to the data in the sorted array.\n",
    "For example: Say, we want to order the people according to their age and their weights."
   ]
  },
  {
   "cell_type": "code",
   "execution_count": 18,
   "metadata": {
    "collapsed": false
   },
   "outputs": [
    {
     "name": "stdout",
     "output_type": "stream",
     "text": [
      "[27 33 27 22 38 32 29 30 30 24]\n",
      "[168 172 179 155 162 150 159 160 150 150]\n"
     ]
    }
   ],
   "source": [
    "ages = np.random.randint(low=20, high=40, size = 10)\n",
    "weights = np.random.randint(low=150, high=200, size=10)\n",
    "\n",
    "print(ages)\n",
    "print(weights)"
   ]
  },
  {
   "cell_type": "code",
   "execution_count": 33,
   "metadata": {
    "collapsed": false
   },
   "outputs": [
    {
     "name": "stdout",
     "output_type": "stream",
     "text": [
      "[22 24 27 27 29 30 30 32 33 38]\n",
      "[155 150 168 179 159 160 150 150 172 162]\n"
     ]
    }
   ],
   "source": [
    "# Now we will sort the ages array first and use that sorter to sort the corresponding weights array\n",
    "sorter = np.argsort(ages)\n",
    "print(ages[sorter])\n",
    "print(weights[sorter])"
   ]
  },
  {
   "cell_type": "markdown",
   "metadata": {},
   "source": [
    "As we can see, the indices of the new sorted age data points are used to sort the corresponding weights array. ALthough the correlation that you observe between the age and the corresponding weight data may be a little funny, it is a reasonable example to understand argsort."
   ]
  },
  {
   "cell_type": "markdown",
   "metadata": {},
   "source": [
    "### Permutation In Numpy\n",
    "Permutations in numpy are simply arrays.\n",
    "\n",
    "Numpy DocRandomly permute a sequence, or return a permuted range.\n",
    "If x is a multi-dimensional array, it is only shuffled along its first index (rows).\n",
    "-- From official Numpy Documentation"
   ]
  },
  {
   "cell_type": "code",
   "execution_count": 45,
   "metadata": {
    "collapsed": false
   },
   "outputs": [
    {
     "data": {
      "text/plain": [
       "array([[ 0,  1,  2,  3,  4,  5],\n",
       "       [ 6,  7,  8,  9, 10, 11],\n",
       "       [12, 13, 14, 15, 16, 17],\n",
       "       [18, 19, 20, 21, 22, 23],\n",
       "       [24, 25, 26, 27, 28, 29],\n",
       "       [30, 31, 32, 33, 34, 35]])"
      ]
     },
     "execution_count": 45,
     "metadata": {},
     "output_type": "execute_result"
    }
   ],
   "source": [
    "## For example\n",
    "ex_1 = np.arange(36).reshape((6, 6))\n",
    "ex_1"
   ]
  },
  {
   "cell_type": "code",
   "execution_count": 46,
   "metadata": {
    "collapsed": false
   },
   "outputs": [
    {
     "data": {
      "text/plain": [
       "array([[30, 31, 32, 33, 34, 35],\n",
       "       [24, 25, 26, 27, 28, 29],\n",
       "       [18, 19, 20, 21, 22, 23],\n",
       "       [ 6,  7,  8,  9, 10, 11],\n",
       "       [ 0,  1,  2,  3,  4,  5],\n",
       "       [12, 13, 14, 15, 16, 17]])"
      ]
     },
     "execution_count": 46,
     "metadata": {},
     "output_type": "execute_result"
    }
   ],
   "source": [
    "# Applying permutation shuffles along its first index\n",
    "\n",
    "np.random.permutation(ex_1)"
   ]
  },
  {
   "cell_type": "code",
   "execution_count": 47,
   "metadata": {
    "collapsed": true
   },
   "outputs": [],
   "source": [
    "# For a single dimensional array,\n",
    "permutation = np.random.permutation(10)"
   ]
  },
  {
   "cell_type": "code",
   "execution_count": 42,
   "metadata": {
    "collapsed": false
   },
   "outputs": [
    {
     "data": {
      "text/plain": [
       "array([0, 4, 6, 8, 1, 5, 3, 7, 9, 2])"
      ]
     },
     "execution_count": 42,
     "metadata": {},
     "output_type": "execute_result"
    }
   ],
   "source": [
    "permutation"
   ]
  },
  {
   "cell_type": "markdown",
   "metadata": {},
   "source": [
    "### Computing inverse of permutation\n",
    "Permuataion can also be applied which is fast and efficient and and can be reused.\n",
    "\n",
    "Frequently to solve the sort problem, programmers use sorted(zip(array_1, array_2)), which is much slower. Permutations offer us 10-20 times speed over zip() "
   ]
  },
  {
   "cell_type": "code",
   "execution_count": 51,
   "metadata": {
    "collapsed": false
   },
   "outputs": [
    {
     "name": "stdout",
     "output_type": "stream",
     "text": [
      "[3 0 1 2 6 8 7 9 5 4]\n",
      "['a' 'b' 'c' 'd' 'e' 'f' 'g' 'h' 'i' 'j']\n",
      "['d' 'a' 'b' 'c' 'g' 'i' 'h' 'j' 'f' 'e']\n"
     ]
    }
   ],
   "source": [
    "permutation = np.random.permutation(10)\n",
    "original = np.array(list('abcdefghij'))\n",
    "permuted = original[permutation]\n",
    "print(permutation)\n",
    "print(original)\n",
    "print(permuted)"
   ]
  },
  {
   "cell_type": "markdown",
   "metadata": {},
   "source": [
    "__Inverse permutation__ can be computed by using numpy.argsort (again!)"
   ]
  },
  {
   "cell_type": "code",
   "execution_count": 67,
   "metadata": {
    "collapsed": false
   },
   "outputs": [
    {
     "name": "stdout",
     "output_type": "stream",
     "text": [
      "['a' 'b' 'c' 'd' 'e' 'f' 'g' 'h' 'i' 'j']\n"
     ]
    }
   ],
   "source": [
    "inverse_permutation = np.argsort(permutation)\n",
    "\n",
    "print(permuted[inverse_permutation])"
   ]
  },
  {
   "cell_type": "markdown",
   "metadata": {},
   "source": [
    "### Computing order of elements in array\n",
    "\n",
    "Very often, we will want to compute the order of each value in array and where they stand in respect to other elements based on their magnitude. \n",
    "\n",
    "In other words, for each element in array we want to find the number of elements smaller than the given element."
   ]
  },
  {
   "cell_type": "code",
   "execution_count": 69,
   "metadata": {
    "collapsed": false
   },
   "outputs": [
    {
     "name": "stdout",
     "output_type": "stream",
     "text": [
      "[ 0.40203798  0.59398841  0.43402664  0.33076928  0.39004246  0.70140826\n",
      "  0.44770018  0.16685312  0.51172183  0.24314027]\n",
      "[4 8 5 2 3 9 6 0 7 1]\n"
     ]
    }
   ],
   "source": [
    "ex_3 = np.random.random(10)\n",
    "\n",
    "print(ex_3)\n",
    "print(np.argsort(np.argsort(ex_3)))"
   ]
  },
  {
   "cell_type": "markdown",
   "metadata": {},
   "source": [
    "In the above result, we could see that 0.16685312 is the smallest of them all and so it has no elements smaller than that. Hence, argsort() will assign the value 0 to it. Next comes 0.24314027 in the list and it has 0.16685312  smaller to it. Hence, it gets 1 and so on."
   ]
  },
  {
   "cell_type": "markdown",
   "metadata": {},
   "source": [
    "But, there is scipy function which performs the same function for us, and it's more general and faster, so prefer using it:"
   ]
  },
  {
   "cell_type": "code",
   "execution_count": 72,
   "metadata": {
    "collapsed": false
   },
   "outputs": [
    {
     "data": {
      "text/plain": [
       "array([  5.,   9.,   6.,   3.,   4.,  10.,   7.,   1.,   8.,   2.])"
      ]
     },
     "execution_count": 72,
     "metadata": {},
     "output_type": "execute_result"
    }
   ],
   "source": [
    "from scipy.stats import rankdata\n",
    "rankdata(ex_3)"
   ]
  },
  {
   "cell_type": "markdown",
   "metadata": {},
   "source": [
    "As you can see, the ranking starts from 1 and not 0. Hence, we would want to subtract 1 from the result to produce the same ordering."
   ]
  },
  {
   "cell_type": "code",
   "execution_count": 73,
   "metadata": {
    "collapsed": false
   },
   "outputs": [
    {
     "data": {
      "text/plain": [
       "array([ 4.,  8.,  5.,  2.,  3.,  9.,  6.,  0.,  7.,  1.])"
      ]
     },
     "execution_count": 73,
     "metadata": {},
     "output_type": "execute_result"
    }
   ],
   "source": [
    "rankdata(ex_3) - 1"
   ]
  },
  {
   "cell_type": "code",
   "execution_count": null,
   "metadata": {
    "collapsed": true
   },
   "outputs": [],
   "source": []
  },
  {
   "cell_type": "code",
   "execution_count": null,
   "metadata": {
    "collapsed": true
   },
   "outputs": [],
   "source": [
    "import numpy as np\n",
    "# Create the following rank 2 array with shape (3, 4)\n",
    "# [[ 1 2 3 4]\n",
    "# [ 5 6 7 8]\n",
    "# [ 9 10 11 12]]\n",
    "a = np.array([[1,2,3,4], [5,6,7,8], [9,10,11,12]])\n",
    "# Use slicing to pull out the subarray consisting of the first 2 rows\n",
    "# and columns 1 and 2; b is the following array of shape (2, 2):\n",
    "# [[2 3]\n",
    "# [6 7]]\n",
    "b = a[:2, 1:3]\n",
    "# A slice of an array is a view into the same data, so modifying it\n",
    "# will modify the original array.\n",
    "print(a[0, 1]) # Prints \"2\"\n",
    "b[0, 0] = 77 # b[0, 0] is the same piece of data as a[0, 1]\n",
    "print(a[0, 1]) # Prints \"77\""
   ]
  },
  {
   "cell_type": "code",
   "execution_count": null,
   "metadata": {
    "collapsed": true
   },
   "outputs": [],
   "source": []
  },
  {
   "cell_type": "code",
   "execution_count": null,
   "metadata": {
    "collapsed": true
   },
   "outputs": [],
   "source": []
  }
 ],
 "metadata": {
  "anaconda-cloud": {},
  "kernelspec": {
   "display_name": "Python [conda env:data]",
   "language": "python",
   "name": "conda-env-data-py"
  },
  "language_info": {
   "codemirror_mode": {
    "name": "ipython",
    "version": 3
   },
   "file_extension": ".py",
   "mimetype": "text/x-python",
   "name": "python",
   "nbconvert_exporter": "python",
   "pygments_lexer": "ipython3",
   "version": "3.5.3"
  }
 },
 "nbformat": 4,
 "nbformat_minor": 0
}
