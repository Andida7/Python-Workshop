{
 "cells": [
  {
   "cell_type": "markdown",
   "metadata": {},
   "source": [
    "Python is convenient, but it can also be slow. However, it does allow you to access libraries that execute faster code written in languages like C. NumPy is one such library: it provides fast alternatives to math operations in Python and is designed to work efficiently with groups of numbers - like matrices.\n",
    "\n",
    "The most common way to work with numbers in NumPy is through ndarray objects. They are similar to Python lists, but can have any number of dimensions. Also, ndarray supports fast math operations, which is just what we want.\n",
    "\n",
    "Since it can store any number of dimensions, you can use ndarrays to represent any of the data types we covered before: scalars, vectors, matrices, or tensors. (Tensors are any n-dimensional data structures above 2 dimensions)."
   ]
  },
  {
   "cell_type": "markdown",
   "metadata": {},
   "source": [
    "Scalars in NumPy are a bit more involved than in Python. Instead of Python’s basic types like int, float, etc., NumPy lets you specify signed and unsigned types, as well as different sizes. So instead of Python’s int, you have access to types like uint8, int8, uint16, int16, and so on."
   ]
  },
  {
   "cell_type": "markdown",
   "metadata": {},
   "source": [
    "These types are important because every object you make (vectors, matrices, tensors) eventually stores scalars. And when you create a NumPy array, you can specify the type - but every item in the array must have the same type. In this regard, NumPy arrays are more like C arrays than Python lists."
   ]
  },
  {
   "cell_type": "code",
   "execution_count": 17,
   "metadata": {
    "collapsed": false
   },
   "outputs": [],
   "source": [
    "import numpy as np"
   ]
  },
  {
   "cell_type": "markdown",
   "metadata": {},
   "source": [
    "### Create your first array"
   ]
  },
  {
   "cell_type": "code",
   "execution_count": 18,
   "metadata": {
    "collapsed": true
   },
   "outputs": [],
   "source": [
    "first_array = np.array([1,2,3,4,5])"
   ]
  },
  {
   "cell_type": "code",
   "execution_count": 11,
   "metadata": {
    "collapsed": false
   },
   "outputs": [
    {
     "data": {
      "text/plain": [
       "array([1, 2, 3, 4, 5])"
      ]
     },
     "execution_count": 11,
     "metadata": {},
     "output_type": "execute_result"
    }
   ],
   "source": [
    "first_array"
   ]
  },
  {
   "cell_type": "code",
   "execution_count": 12,
   "metadata": {
    "collapsed": false
   },
   "outputs": [
    {
     "data": {
      "text/plain": [
       "numpy.ndarray"
      ]
     },
     "execution_count": 12,
     "metadata": {},
     "output_type": "execute_result"
    }
   ],
   "source": [
    "# Get the type of the\n",
    "type(first_array)"
   ]
  },
  {
   "cell_type": "code",
   "execution_count": 13,
   "metadata": {
    "collapsed": false
   },
   "outputs": [],
   "source": [
    "# Convert to list\n",
    "b = first_array.tolist()"
   ]
  },
  {
   "cell_type": "code",
   "execution_count": 14,
   "metadata": {
    "collapsed": false
   },
   "outputs": [
    {
     "data": {
      "text/plain": [
       "list"
      ]
     },
     "execution_count": 14,
     "metadata": {},
     "output_type": "execute_result"
    }
   ],
   "source": [
    "type(b)"
   ]
  },
  {
   "cell_type": "code",
   "execution_count": 6,
   "metadata": {
    "collapsed": false
   },
   "outputs": [
    {
     "name": "stdout",
     "output_type": "stream",
     "text": [
      "[[ 1  2  3  4  5]\n",
      " [ 1  4  9 16 25]]\n"
     ]
    }
   ],
   "source": [
    "# Multi-dimensional arrays can be created as follows:\n",
    "a = [1, 2, 3, 4, 5]\n",
    "b = [1,4,9,16,25]\n",
    "squares = np.array([a,b])\n",
    "print(squares)"
   ]
  },
  {
   "cell_type": "code",
   "execution_count": 7,
   "metadata": {
    "collapsed": false
   },
   "outputs": [
    {
     "data": {
      "text/plain": [
       "dtype('int32')"
      ]
     },
     "execution_count": 7,
     "metadata": {},
     "output_type": "execute_result"
    }
   ],
   "source": [
    "squares.dtype # Get the data type of the array"
   ]
  },
  {
   "cell_type": "code",
   "execution_count": 8,
   "metadata": {
    "collapsed": false
   },
   "outputs": [
    {
     "data": {
      "text/plain": [
       "3"
      ]
     },
     "execution_count": 8,
     "metadata": {},
     "output_type": "execute_result"
    }
   ],
   "source": [
    "# Creating a 3-dimensional array\n",
    "# We can use the same lists again and add an additional dimensional array to it.\n",
    "cubes = np.array([[a,b,[1,8,27,64,225]]])\n",
    "cubes.ndim"
   ]
  },
  {
   "cell_type": "markdown",
   "metadata": {
    "collapsed": false
   },
   "source": [
    "### Accessing the elements using array indexing"
   ]
  },
  {
   "cell_type": "code",
   "execution_count": 15,
   "metadata": {
    "collapsed": false
   },
   "outputs": [
    {
     "data": {
      "text/plain": [
       "array([ 1,  4,  9, 16, 25])"
      ]
     },
     "execution_count": 15,
     "metadata": {},
     "output_type": "execute_result"
    }
   ],
   "source": [
    "cubes[0][1]"
   ]
  },
  {
   "cell_type": "code",
   "execution_count": 20,
   "metadata": {
    "collapsed": false
   },
   "outputs": [
    {
     "name": "stdout",
     "output_type": "stream",
     "text": [
      "[[52 11 13 42 82 45]\n",
      " [73  7 43 56 52 74]\n",
      " [57 19 82 36 30 77]\n",
      " [75 24 51 42 98 32]\n",
      " [28 78  8 59 28 95]\n",
      " [55 24 22 10 17 18]]\n"
     ]
    }
   ],
   "source": [
    "# Create a numpy array from a random set of integers\n",
    "rand_arr = np.random.randint(100, size=(6, 6))\n",
    "print(rand_arr)"
   ]
  },
  {
   "cell_type": "code",
   "execution_count": 21,
   "metadata": {
    "collapsed": false
   },
   "outputs": [
    {
     "data": {
      "text/plain": [
       "array([42, 82])"
      ]
     },
     "execution_count": 21,
     "metadata": {},
     "output_type": "execute_result"
    }
   ],
   "source": [
    "rand_arr[0,3:5] # get only the column 3 through 4 from row 0"
   ]
  },
  {
   "cell_type": "code",
   "execution_count": 22,
   "metadata": {
    "collapsed": false
   },
   "outputs": [
    {
     "data": {
      "text/plain": [
       "array([[28, 95],\n",
       "       [17, 18]])"
      ]
     },
     "execution_count": 22,
     "metadata": {},
     "output_type": "execute_result"
    }
   ],
   "source": [
    "# Get the elements at the bottom right corner\n",
    "rand_arr[4:,4:]"
   ]
  },
  {
   "cell_type": "code",
   "execution_count": 23,
   "metadata": {
    "collapsed": false
   },
   "outputs": [
    {
     "data": {
      "text/plain": [
       "array([57, 19, 82, 36, 30, 77])"
      ]
     },
     "execution_count": 23,
     "metadata": {},
     "output_type": "execute_result"
    }
   ],
   "source": [
    "# Get a complete row\n",
    "rand_arr[2,:] # the 3rd row .. i.e index 2"
   ]
  },
  {
   "cell_type": "code",
   "execution_count": 24,
   "metadata": {
    "collapsed": false
   },
   "outputs": [
    {
     "data": {
      "text/plain": [
       "array([42, 56, 36, 42, 59, 10])"
      ]
     },
     "execution_count": 24,
     "metadata": {},
     "output_type": "execute_result"
    }
   ],
   "source": [
    "# Get a complete row \n",
    "rand_arr[:,3] # the 4th row.. i.e index 3"
   ]
  },
  {
   "cell_type": "code",
   "execution_count": 25,
   "metadata": {
    "collapsed": false
   },
   "outputs": [
    {
     "data": {
      "text/plain": [
       "array([[52, 11, 13, 42, 82, 45],\n",
       "       [57, 19, 82, 36, 30, 77],\n",
       "       [28, 78,  8, 59, 28, 95]])"
      ]
     },
     "execution_count": 25,
     "metadata": {},
     "output_type": "execute_result"
    }
   ],
   "source": [
    "rand_arr[::2] # Getting alternative rows"
   ]
  },
  {
   "cell_type": "markdown",
   "metadata": {},
   "source": [
    "## Exercise Question #1\n",
    "How did the code above work? What is the meaning behind the double colons \"::\""
   ]
  },
  {
   "cell_type": "markdown",
   "metadata": {},
   "source": [
    "#### Solution"
   ]
  },
  {
   "cell_type": "markdown",
   "metadata": {},
   "source": [
    "The general way in which sequence slicing is done in Python is as follows array_var[start:end:step]. Any of the parameters can be dropped too. Hence, in this example rand_arr[::2] represents every second element starting with 0(default)."
   ]
  },
  {
   "cell_type": "code",
   "execution_count": 30,
   "metadata": {
    "collapsed": false
   },
   "outputs": [
    {
     "name": "stdout",
     "output_type": "stream",
     "text": [
      "[[85 65  7 60  6 51 77 22 27 58]\n",
      " [22  2 68 32 71 24  6 67 81 88]\n",
      " [14 27  0  3 94 78 83 13 32 33]\n",
      " [74 31 22 65 51 53  2 69 39 62]\n",
      " [13 90 19 14 92 24 22 24 30 26]\n",
      " [62 80  9 83 88 39 25 46 50 56]\n",
      " [77 58 34 85  3 78 31 24 88 14]\n",
      " [88  8 86 34  8  7 20  7  0 68]\n",
      " [82  1 78 84 92 58  7 19 27 50]\n",
      " [77  7  1  3 30 56 23 15 81 31]]\n"
     ]
    }
   ],
   "source": [
    "# More examples\n",
    "rand_arr1 = np.random.randint(100, size=(10, 10))\n",
    "print(rand_arr1)"
   ]
  },
  {
   "cell_type": "markdown",
   "metadata": {},
   "source": [
    "## Exercise Question #2\n",
    "\n",
    "Get me every 3rd row starting from the 2nd row (i.e index 1)"
   ]
  },
  {
   "cell_type": "markdown",
   "metadata": {},
   "source": [
    "### Solution"
   ]
  },
  {
   "cell_type": "code",
   "execution_count": 32,
   "metadata": {
    "collapsed": false
   },
   "outputs": [
    {
     "data": {
      "text/plain": [
       "array([[22,  2, 68, 32, 71, 24,  6, 67, 81, 88],\n",
       "       [13, 90, 19, 14, 92, 24, 22, 24, 30, 26],\n",
       "       [88,  8, 86, 34,  8,  7, 20,  7,  0, 68]])"
      ]
     },
     "execution_count": 32,
     "metadata": {},
     "output_type": "execute_result"
    }
   ],
   "source": [
    "rand_arr1[1::3]"
   ]
  },
  {
   "cell_type": "code",
   "execution_count": 34,
   "metadata": {
    "collapsed": false
   },
   "outputs": [
    {
     "name": "stdout",
     "output_type": "stream",
     "text": [
      "[[51  7 71 19 73 51 55 70 73  7 80 72 19 36 17  7 23 41 27 99]\n",
      " [37 27 55 20 96 95 27 79  5 14 15 81 96 44 75 24 94 82 15 69]\n",
      " [77  6 92 75 29 79 44 31 57 91 54 68 77 84  8  0 13 59 30 85]\n",
      " [66 57 63 25  7 93 10  2 55 72 14 65 45 93 22 48 95 20 29 12]\n",
      " [17 98 41  8  9 39 11 10 56  4  2 57 10 56 96 14 38  9 49 15]\n",
      " [89 71 77 81 23 74 82 60 11  9 41 34 47 72 12 52 28 70 98 65]\n",
      " [55 54 51 82  9 43 20 14 44 22 24 55 97 39 70 15  3 82 24 91]\n",
      " [12 75 92 20 98 80 38 23 20 88 95 62 71 79 14 98  8 43 55 34]\n",
      " [99 91 87 80 58 49 27 57 45 16 10 61 15 55 56 70 60 70 16 40]\n",
      " [ 8  4 40 83 98 16  9 97 67 42 87 38 16 65 42 49 41 40 94  4]\n",
      " [23 56 36 27 16 68 48  9 28 53 57 32 30 39 83 31 25 28  3 86]\n",
      " [49 65 97 68 31 91 89 43 37 13 75 27 53 14 38 64 38 12 55 63]\n",
      " [77 16 41  5 23 70 97 60 20 52 54  2 26 20 36 81 17 45 33  9]\n",
      " [37  5 92  4 71 10 96 69 97 28 18 86 37 73 36 97 24 10 12 89]\n",
      " [53 96  7  5 86  9 73 23 24 17 43 57 40 41 19  9 57 92 20 92]\n",
      " [81 50 26 93  8 94 33 95 65 42  7 19 99 37 96 77 63 92 62 97]\n",
      " [41 40 24 28 57 36 72 87 82 59 82 74 15 92 64 36 48 73 64 42]\n",
      " [53 34 62 85 36 64 65 80  9 47 72 51 71 74 42  1 18 37 52 49]\n",
      " [86  1 52 23 17 30 48 66 43 43 79 33 61 79 23 27 92 69 41 88]\n",
      " [94 75 81 60  6 33 95 61 11 41 86 16 34 85  8 58 68 57 98 38]]\n"
     ]
    }
   ],
   "source": [
    "# Lets make our array bigger and question harder\n",
    "rand_arr1 = np.random.randint(100, size=(20, 20))\n",
    "print(rand_arr1)"
   ]
  },
  {
   "cell_type": "markdown",
   "metadata": {},
   "source": [
    "## Exercise Question #3\n",
    "\n",
    "Get me every 3rd row starting from the 2nd row."
   ]
  },
  {
   "cell_type": "markdown",
   "metadata": {},
   "source": [
    "### Solution"
   ]
  },
  {
   "cell_type": "code",
   "execution_count": 41,
   "metadata": {
    "collapsed": false
   },
   "outputs": [
    {
     "data": {
      "text/plain": [
       "array([[37, 27, 55, 20, 96, 95, 27, 79,  5, 14, 15, 81, 96, 44, 75, 24, 94,\n",
       "        82, 15, 69],\n",
       "       [17, 98, 41,  8,  9, 39, 11, 10, 56,  4,  2, 57, 10, 56, 96, 14, 38,\n",
       "         9, 49, 15],\n",
       "       [12, 75, 92, 20, 98, 80, 38, 23, 20, 88, 95, 62, 71, 79, 14, 98,  8,\n",
       "        43, 55, 34],\n",
       "       [23, 56, 36, 27, 16, 68, 48,  9, 28, 53, 57, 32, 30, 39, 83, 31, 25,\n",
       "        28,  3, 86],\n",
       "       [37,  5, 92,  4, 71, 10, 96, 69, 97, 28, 18, 86, 37, 73, 36, 97, 24,\n",
       "        10, 12, 89],\n",
       "       [41, 40, 24, 28, 57, 36, 72, 87, 82, 59, 82, 74, 15, 92, 64, 36, 48,\n",
       "        73, 64, 42],\n",
       "       [94, 75, 81, 60,  6, 33, 95, 61, 11, 41, 86, 16, 34, 85,  8, 58, 68,\n",
       "        57, 98, 38]])"
      ]
     },
     "execution_count": 41,
     "metadata": {},
     "output_type": "execute_result"
    }
   ],
   "source": [
    "rand_arr1[1::3]"
   ]
  },
  {
   "cell_type": "markdown",
   "metadata": {},
   "source": [
    "## Exercise Question #4\n",
    "\n",
    "The result looks good. But looks like I dont need the row starting with 94..75.. Could you please eliminate that from your slice?"
   ]
  },
  {
   "cell_type": "markdown",
   "metadata": {},
   "source": [
    "### Solution "
   ]
  },
  {
   "cell_type": "code",
   "execution_count": 42,
   "metadata": {
    "collapsed": false
   },
   "outputs": [
    {
     "data": {
      "text/plain": [
       "array([[37, 27, 55, 20, 96, 95, 27, 79,  5, 14, 15, 81, 96, 44, 75, 24, 94,\n",
       "        82, 15, 69],\n",
       "       [17, 98, 41,  8,  9, 39, 11, 10, 56,  4,  2, 57, 10, 56, 96, 14, 38,\n",
       "         9, 49, 15],\n",
       "       [12, 75, 92, 20, 98, 80, 38, 23, 20, 88, 95, 62, 71, 79, 14, 98,  8,\n",
       "        43, 55, 34],\n",
       "       [23, 56, 36, 27, 16, 68, 48,  9, 28, 53, 57, 32, 30, 39, 83, 31, 25,\n",
       "        28,  3, 86],\n",
       "       [37,  5, 92,  4, 71, 10, 96, 69, 97, 28, 18, 86, 37, 73, 36, 97, 24,\n",
       "        10, 12, 89],\n",
       "       [41, 40, 24, 28, 57, 36, 72, 87, 82, 59, 82, 74, 15, 92, 64, 36, 48,\n",
       "        73, 64, 42]])"
      ]
     },
     "execution_count": 42,
     "metadata": {},
     "output_type": "execute_result"
    }
   ],
   "source": [
    "rand_arr1[1:-1:3]"
   ]
  },
  {
   "cell_type": "code",
   "execution_count": 44,
   "metadata": {
    "collapsed": false
   },
   "outputs": [
    {
     "data": {
      "text/plain": [
       "array([[52, 13, 82],\n",
       "       [73, 43, 52],\n",
       "       [57, 82, 30],\n",
       "       [75, 51, 98],\n",
       "       [28,  8, 28],\n",
       "       [55, 22, 17]])"
      ]
     },
     "execution_count": 44,
     "metadata": {},
     "output_type": "execute_result"
    }
   ],
   "source": [
    "rand_arr[:,::2] # Getting alternate columns .. The first colon before the comma represents all rows"
   ]
  },
  {
   "cell_type": "code",
   "execution_count": 47,
   "metadata": {
    "collapsed": false
   },
   "outputs": [],
   "source": [
    "chess_array = np.random.randint(10, size = (64,64))"
   ]
  },
  {
   "cell_type": "code",
   "execution_count": 48,
   "metadata": {
    "collapsed": false
   },
   "outputs": [
    {
     "data": {
      "text/plain": [
       "array([[1, 7, 2, ..., 6, 5, 5],\n",
       "       [7, 9, 7, ..., 5, 2, 2],\n",
       "       [8, 5, 9, ..., 8, 4, 7],\n",
       "       ..., \n",
       "       [9, 9, 6, ..., 1, 7, 7],\n",
       "       [4, 5, 2, ..., 7, 3, 8],\n",
       "       [8, 6, 5, ..., 2, 7, 6]])"
      ]
     },
     "execution_count": 48,
     "metadata": {},
     "output_type": "execute_result"
    }
   ],
   "source": [
    "chess_array"
   ]
  },
  {
   "cell_type": "code",
   "execution_count": null,
   "metadata": {
    "collapsed": true
   },
   "outputs": [],
   "source": []
  },
  {
   "cell_type": "code",
   "execution_count": 52,
   "metadata": {
    "collapsed": false
   },
   "outputs": [
    {
     "data": {
      "text/plain": [
       "array([[ 4, 76, 32],\n",
       "       [18, 10, 88]])"
      ]
     },
     "execution_count": 52,
     "metadata": {},
     "output_type": "execute_result"
    }
   ],
   "source": [
    "rand_arr[2::2,::2]"
   ]
  },
  {
   "cell_type": "markdown",
   "metadata": {},
   "source": [
    "### Broadcasting"
   ]
  },
  {
   "cell_type": "code",
   "execution_count": 49,
   "metadata": {
    "collapsed": true
   },
   "outputs": [],
   "source": [
    "# Lets create an array\n",
    "a = np.array([1,2,34,5,563])"
   ]
  },
  {
   "cell_type": "code",
   "execution_count": 50,
   "metadata": {
    "collapsed": false
   },
   "outputs": [
    {
     "data": {
      "text/plain": [
       "array([  1,   2,  34,   5, 563])"
      ]
     },
     "execution_count": 50,
     "metadata": {},
     "output_type": "execute_result"
    }
   ],
   "source": [
    "a"
   ]
  },
  {
   "cell_type": "code",
   "execution_count": 51,
   "metadata": {
    "collapsed": true
   },
   "outputs": [],
   "source": [
    "# Lets take a slice of a and assign it to b\n",
    "b = a[2:5]"
   ]
  },
  {
   "cell_type": "code",
   "execution_count": 53,
   "metadata": {
    "collapsed": true
   },
   "outputs": [],
   "source": [
    "# Lets add an item to b's 0th index position\n",
    "b[0] = 252"
   ]
  },
  {
   "cell_type": "code",
   "execution_count": 54,
   "metadata": {
    "collapsed": false
   },
   "outputs": [
    {
     "data": {
      "text/plain": [
       "array([  1,   2, 252,   5, 563])"
      ]
     },
     "execution_count": 54,
     "metadata": {},
     "output_type": "execute_result"
    }
   ],
   "source": [
    "# But turns out a changed as well along with b\n",
    "a"
   ]
  },
  {
   "cell_type": "markdown",
   "metadata": {},
   "source": [
    "That is because slices are references and not separate objects and hence any change made through the references pointing to a slice of an array creates changes in the original array. This is called broadcasting."
   ]
  },
  {
   "cell_type": "code",
   "execution_count": null,
   "metadata": {
    "collapsed": true
   },
   "outputs": [],
   "source": []
  },
  {
   "cell_type": "code",
   "execution_count": null,
   "metadata": {
    "collapsed": true
   },
   "outputs": [],
   "source": []
  },
  {
   "cell_type": "code",
   "execution_count": null,
   "metadata": {
    "collapsed": true
   },
   "outputs": [],
   "source": []
  },
  {
   "cell_type": "code",
   "execution_count": null,
   "metadata": {
    "collapsed": true
   },
   "outputs": [],
   "source": []
  },
  {
   "cell_type": "code",
   "execution_count": null,
   "metadata": {
    "collapsed": true
   },
   "outputs": [],
   "source": []
  },
  {
   "cell_type": "code",
   "execution_count": null,
   "metadata": {
    "collapsed": true
   },
   "outputs": [],
   "source": []
  },
  {
   "cell_type": "code",
   "execution_count": null,
   "metadata": {
    "collapsed": true
   },
   "outputs": [],
   "source": []
  },
  {
   "cell_type": "code",
   "execution_count": null,
   "metadata": {
    "collapsed": true
   },
   "outputs": [],
   "source": []
  },
  {
   "cell_type": "code",
   "execution_count": null,
   "metadata": {
    "collapsed": true
   },
   "outputs": [],
   "source": []
  }
 ],
 "metadata": {
  "anaconda-cloud": {},
  "kernelspec": {
   "display_name": "Python [conda env:data]",
   "language": "python",
   "name": "conda-env-data-py"
  },
  "language_info": {
   "codemirror_mode": {
    "name": "ipython",
    "version": 3
   },
   "file_extension": ".py",
   "mimetype": "text/x-python",
   "name": "python",
   "nbconvert_exporter": "python",
   "pygments_lexer": "ipython3",
   "version": "3.5.3"
  }
 },
 "nbformat": 4,
 "nbformat_minor": 1
}
