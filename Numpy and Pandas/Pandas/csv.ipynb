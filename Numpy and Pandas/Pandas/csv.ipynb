{
 "cells": [
  {
   "cell_type": "code",
   "execution_count": 2,
   "metadata": {
    "collapsed": true
   },
   "outputs": [],
   "source": [
    "import pandas as pd"
   ]
  },
  {
   "cell_type": "code",
   "execution_count": 3,
   "metadata": {},
   "outputs": [
    {
     "name": "stdout",
     "output_type": "stream",
     "text": [
      " Volume in drive C has no label.\n",
      " Volume Serial Number is 5889-7B5D\n",
      "\n",
      " Directory of C:\\Users\\vivek\\Documents\\GitHub\\Python-Workshop\\Numpy and Pandas\\Pandas\n",
      "\n",
      "08/13/2017  10:50 PM    <DIR>          .\n",
      "08/13/2017  10:50 PM    <DIR>          ..\n",
      "08/13/2017  10:50 PM    <DIR>          .ipynb_checkpoints\n",
      "08/13/2017  08:18 PM            75,548 Arithmetic and Data Alignment.ipynb\n",
      "08/13/2017  08:24 PM            22,995 Column Operations.ipynb\n",
      "08/13/2017  09:09 PM            41,104 Correlation and Covariance.ipynb\n",
      "08/13/2017  10:50 PM                72 csv.ipynb\n",
      "08/13/2017  10:48 PM                50 data.txt\n",
      "08/13/2017  09:29 PM            60,699 DataFrame Indexing,Selection & Filtering.ipynb\n",
      "08/13/2017  10:05 PM            14,325 Descriptive Statistics in Pandas.ipynb\n",
      "08/13/2017  09:35 PM            14,363 Function Pipeline in Pandas.ipynb\n",
      "08/13/2017  10:04 PM            46,815 Handing Missing Data.ipynb\n",
      "08/13/2017  10:28 PM            47,243 Hierarchial Indexing.ipynb\n",
      "08/13/2017  10:44 PM             8,278 Histogram Example.ipynb\n",
      "08/13/2017  10:46 PM             6,631 Pandas Series.ipynb\n",
      "08/13/2017  10:47 PM            36,237 Reordering and Sorting Levels.ipynb\n",
      "08/13/2017  07:38 PM            29,346 Sorting and Ranking.ipynb\n",
      "08/13/2017  10:05 PM             3,592 Sorting Operations.ipynb\n",
      "              15 File(s)        407,298 bytes\n",
      "               3 Dir(s)  456,779,718,656 bytes free\n"
     ]
    }
   ],
   "source": [
    "%ls"
   ]
  },
  {
   "cell_type": "code",
   "execution_count": 4,
   "metadata": {},
   "outputs": [
    {
     "data": {
      "text/html": [
       "<div>\n",
       "<style>\n",
       "    .dataframe thead tr:only-child th {\n",
       "        text-align: right;\n",
       "    }\n",
       "\n",
       "    .dataframe thead th {\n",
       "        text-align: left;\n",
       "    }\n",
       "\n",
       "    .dataframe tbody tr th {\n",
       "        vertical-align: top;\n",
       "    }\n",
       "</style>\n",
       "<table border=\"1\" class=\"dataframe\">\n",
       "  <thead>\n",
       "    <tr style=\"text-align: right;\">\n",
       "      <th></th>\n",
       "      <th>Name</th>\n",
       "      <th>age</th>\n",
       "      <th>sex</th>\n",
       "    </tr>\n",
       "  </thead>\n",
       "  <tbody>\n",
       "    <tr>\n",
       "      <th>0</th>\n",
       "      <td>Bob</td>\n",
       "      <td>20</td>\n",
       "      <td>Male</td>\n",
       "    </tr>\n",
       "    <tr>\n",
       "      <th>1</th>\n",
       "      <td>Alice</td>\n",
       "      <td>21</td>\n",
       "      <td>Female</td>\n",
       "    </tr>\n",
       "  </tbody>\n",
       "</table>\n",
       "</div>"
      ],
      "text/plain": [
       "    Name   age      sex\n",
       "0    Bob    20     Male\n",
       "1  Alice    21   Female"
      ]
     },
     "execution_count": 4,
     "metadata": {},
     "output_type": "execute_result"
    }
   ],
   "source": [
    "pd.read_csv('data.txt')"
   ]
  },
  {
   "cell_type": "code",
   "execution_count": 5,
   "metadata": {
    "collapsed": true
   },
   "outputs": [],
   "source": [
    "data=pd.read_csv('data.txt')"
   ]
  },
  {
   "cell_type": "code",
   "execution_count": 6,
   "metadata": {},
   "outputs": [
    {
     "data": {
      "text/html": [
       "<div>\n",
       "<style>\n",
       "    .dataframe thead tr:only-child th {\n",
       "        text-align: right;\n",
       "    }\n",
       "\n",
       "    .dataframe thead th {\n",
       "        text-align: left;\n",
       "    }\n",
       "\n",
       "    .dataframe tbody tr th {\n",
       "        vertical-align: top;\n",
       "    }\n",
       "</style>\n",
       "<table border=\"1\" class=\"dataframe\">\n",
       "  <thead>\n",
       "    <tr style=\"text-align: right;\">\n",
       "      <th></th>\n",
       "      <th>Name</th>\n",
       "      <th>age</th>\n",
       "      <th>sex</th>\n",
       "    </tr>\n",
       "  </thead>\n",
       "  <tbody>\n",
       "    <tr>\n",
       "      <th>0</th>\n",
       "      <td>Bob</td>\n",
       "      <td>20</td>\n",
       "      <td>Male</td>\n",
       "    </tr>\n",
       "    <tr>\n",
       "      <th>1</th>\n",
       "      <td>Alice</td>\n",
       "      <td>21</td>\n",
       "      <td>Female</td>\n",
       "    </tr>\n",
       "  </tbody>\n",
       "</table>\n",
       "</div>"
      ],
      "text/plain": [
       "    Name   age      sex\n",
       "0    Bob    20     Male\n",
       "1  Alice    21   Female"
      ]
     },
     "execution_count": 6,
     "metadata": {},
     "output_type": "execute_result"
    }
   ],
   "source": [
    "data"
   ]
  },
  {
   "cell_type": "code",
   "execution_count": 16,
   "metadata": {
    "collapsed": true
   },
   "outputs": [],
   "source": [
    "data.to_csv('data_tmp.txt')"
   ]
  },
  {
   "cell_type": "code",
   "execution_count": 17,
   "metadata": {},
   "outputs": [
    {
     "name": "stdout",
     "output_type": "stream",
     "text": [
      " Volume in drive C has no label.\n",
      " Volume Serial Number is 5889-7B5D\n",
      "\n",
      " Directory of C:\\Users\\vivek\\Documents\\GitHub\\Python-Workshop\\Numpy and Pandas\\Pandas\n",
      "\n",
      "08/13/2017  10:52 PM    <DIR>          .\n",
      "08/13/2017  10:52 PM    <DIR>          ..\n",
      "08/13/2017  10:50 PM    <DIR>          .ipynb_checkpoints\n",
      "08/13/2017  08:18 PM            75,548 Arithmetic and Data Alignment.ipynb\n",
      "08/13/2017  08:24 PM            22,995 Column Operations.ipynb\n",
      "08/13/2017  09:09 PM            41,104 Correlation and Covariance.ipynb\n",
      "08/13/2017  10:52 PM             8,259 csv.ipynb\n",
      "08/13/2017  10:48 PM                50 data.txt\n",
      "08/13/2017  10:53 PM                53 data_tmp.txt\n",
      "08/13/2017  09:29 PM            60,699 DataFrame Indexing,Selection & Filtering.ipynb\n",
      "08/13/2017  10:05 PM            14,325 Descriptive Statistics in Pandas.ipynb\n",
      "08/13/2017  09:35 PM            14,363 Function Pipeline in Pandas.ipynb\n",
      "08/13/2017  10:04 PM            46,815 Handing Missing Data.ipynb\n",
      "08/13/2017  10:28 PM            47,243 Hierarchial Indexing.ipynb\n",
      "08/13/2017  10:44 PM             8,278 Histogram Example.ipynb\n",
      "08/13/2017  10:46 PM             6,631 Pandas Series.ipynb\n",
      "08/13/2017  10:47 PM            36,237 Reordering and Sorting Levels.ipynb\n",
      "08/13/2017  07:38 PM            29,346 Sorting and Ranking.ipynb\n",
      "08/13/2017  10:05 PM             3,592 Sorting Operations.ipynb\n",
      "              16 File(s)        415,538 bytes\n",
      "               3 Dir(s)  456,779,673,600 bytes free\n"
     ]
    }
   ],
   "source": [
    "%ls"
   ]
  },
  {
   "cell_type": "code",
   "execution_count": null,
   "metadata": {},
   "outputs": [],
   "source": [
    "# %load data_tmp.txt\n",
    ",Name, age, sex\n",
    "0,Bob,20, Male\n",
    "1,Alice,21, Female\n"
   ]
  },
  {
   "cell_type": "markdown",
   "metadata": {},
   "source": [
    "write csv file without index"
   ]
  },
  {
   "cell_type": "code",
   "execution_count": null,
   "metadata": {
    "collapsed": true
   },
   "outputs": [],
   "source": []
  },
  {
   "cell_type": "code",
   "execution_count": 21,
   "metadata": {
    "collapsed": true
   },
   "outputs": [],
   "source": [
    "data.to_csv('data_tmp.txt',index=False)"
   ]
  },
  {
   "cell_type": "code",
   "execution_count": null,
   "metadata": {
    "collapsed": true
   },
   "outputs": [],
   "source": [
    "# %load data_tmp.txt\n",
    "Name, age, sex\n",
    "Bob,20, Male\n",
    "Alice,21, Female\n"
   ]
  },
  {
   "cell_type": "code",
   "execution_count": null,
   "metadata": {
    "collapsed": true
   },
   "outputs": [],
   "source": []
  }
 ],
 "metadata": {
  "kernelspec": {
   "display_name": "Python 3",
   "language": "python",
   "name": "python3"
  },
  "language_info": {
   "codemirror_mode": {
    "name": "ipython",
    "version": 3
   },
   "file_extension": ".py",
   "mimetype": "text/x-python",
   "name": "python",
   "nbconvert_exporter": "python",
   "pygments_lexer": "ipython3",
   "version": "3.6.1"
  }
 },
 "nbformat": 4,
 "nbformat_minor": 2
}
