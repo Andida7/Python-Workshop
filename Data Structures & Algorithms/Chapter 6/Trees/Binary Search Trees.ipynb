{
 "cells": [
  {
   "cell_type": "markdown",
   "metadata": {},
   "source": [
    "## Binary Search Tree\n",
    "\n",
    "A binary search tree relies on the property that keys that are less than the parent are found in\n",
    "the left subtree, and keys that are greater than the parent are found in the right subtree. We\n",
    "will call this the bst property. \n",
    "\n",
    "The property holds for each parent and child. All of the keys in the left subtree are less than the key in the root. All of the\n",
    "keys in the right subtree are greater than the root."
   ]
  },
  {
   "cell_type": "markdown",
   "metadata": {},
   "source": [
    "## Search Tree Implementations\n",
    "\n",
    "Before we look at the implementation, let’s review the interface provided by the map ADT. You\n",
    "will notice that this interface is very similar to the Python dictionary.\n",
    "\n",
    "• Map() Create a new, empty map.\n",
    "\n",
    "• put(key,val) Add a new key-value pair to the map. If the key is already in the map\n",
    "then replace the old value with the new value.\n",
    "\n",
    "• get(key) Given a key, return the value stored in the map or None otherwise.\n",
    "\n",
    "• del Delete the key-value pair from the map using a statement of the form\n",
    "del map[key].\n",
    "\n",
    "• len() Return the number of key-value pairs stored in the map.\n",
    "\n",
    "• in Return True for a statement of the form key in map, if the given key is in the map."
   ]
  },
  {
   "cell_type": "markdown",
   "metadata": {},
   "source": [
    "## How To Implement\n",
    "\n",
    "To implement the binary search tree, we will use the nodes and references approach similar\n",
    "to the one we used to implement the linked list, and the expression tree. However, because\n",
    "we must be able to create and work with a binary search tree that is empty, our implementation\n",
    "will use two classes. The first class we will call BinarySearchTree, and the second class\n",
    "we will call TreeNode. \n",
    "\n",
    "\n",
    "\n",
    "\n",
    "\n",
    "\n",
    "\n",
    "The BinarySearchTree class has a reference to the TreeNode that\n",
    "is the root of the binary search tree. In most cases the external methods defined in the outer\n",
    "class simply check to see if the tree is empty. If there are nodes in the tree, the request is just\n",
    "passed on to a private method defined in the BinarySearchTree class that takes the root as\n",
    "a parameter. In the case where the tree is empty or we want to delete the key at the root of\n",
    "the tree, we must take special action. The code for the BinarySearchTree class constructor\n",
    "along with a few other miscellaneous functions is shown below."
   ]
  },
  {
   "cell_type": "code",
   "execution_count": 1,
   "metadata": {
    "collapsed": true
   },
   "outputs": [],
   "source": [
    "# Basic BinarySearchTree class - incomplete\n",
    "class BinarySearchTree:\n",
    "    def __init__(self):\n",
    "        self.root = None\n",
    "        self.size = 0\n",
    "    def length(self):\n",
    "        return self.size\n",
    "    def __len__(self):\n",
    "        return self.size\n",
    "    def __iter__(self):\n",
    "        return self.root.__iter__()"
   ]
  },
  {
   "cell_type": "markdown",
   "metadata": {},
   "source": [
    "The TreeNode class provides many helper functions that make the work done in the BinarySearchTree class methods much easier."
   ]
  },
  {
   "cell_type": "code",
   "execution_count": 2,
   "metadata": {
    "collapsed": true
   },
   "outputs": [],
   "source": [
    "# Completed TreeNode class\n",
    "class TreeNode:\n",
    "    # whenever a new node is created, we set the children and parent to None\n",
    "    def __init__(self, key, val, left = None, right = None, parent = None):\n",
    "        self.key = key\n",
    "        self.payload = val\n",
    "        self.left_child = left\n",
    "        self.right_child = right\n",
    "        self.parent = parent\n",
    "    def has_left_child(self):\n",
    "        # if self.left_child returns true\n",
    "        return self.left_child\n",
    "    def has_right_child(self):\n",
    "        return self.right_child\n",
    "    def is_left_child(self):\n",
    "        # has a parent and the left node equals the node that is being passed (that is checked if its left)\n",
    "        return self.parent and self.parent.left_child == self\n",
    "    def is_right_child(self):\n",
    "        return self.parent and self.parent.right_child == self\n",
    "    def is_root(self):\n",
    "        # if it has no parent node\n",
    "        return not self.parent\n",
    "    def is_leaf(self):\n",
    "        # if it has no left or right child nodes\n",
    "        return not (self.right_child or self.left_child)\n",
    "    def has_any_children(self):\n",
    "        # if it either has a left or right child\n",
    "        return self.right_child or self.left_child\n",
    "    def has_both_children(self):\n",
    "        # has boths\n",
    "        return self.right_child and self.left_child\n",
    "    def replace_node_data(self, key, value, lc, rc):\n",
    "        self.key = key\n",
    "        self.payload = value\n",
    "        self.left_child = lc\n",
    "        self.right_child = rc\n",
    "        if self.has_left_child():\n",
    "            self.left_child.parent = self\n",
    "        if self.has_right_child():\n",
    "            self.right_child.parent = self"
   ]
  },
  {
   "cell_type": "code",
   "execution_count": null,
   "metadata": {
    "collapsed": true
   },
   "outputs": [],
   "source": []
  }
 ],
 "metadata": {
  "kernelspec": {
   "display_name": "Python 3",
   "language": "python",
   "name": "python3"
  },
  "language_info": {
   "codemirror_mode": {
    "name": "ipython",
    "version": 3
   },
   "file_extension": ".py",
   "mimetype": "text/x-python",
   "name": "python",
   "nbconvert_exporter": "python",
   "pygments_lexer": "ipython3",
   "version": "3.5.3"
  }
 },
 "nbformat": 4,
 "nbformat_minor": 1
}
