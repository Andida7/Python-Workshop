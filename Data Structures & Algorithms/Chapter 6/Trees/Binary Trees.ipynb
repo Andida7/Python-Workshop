{
 "cells": [
  {
   "cell_type": "code",
   "execution_count": 137,
   "metadata": {
    "collapsed": true
   },
   "outputs": [],
   "source": [
    "class BinaryTree:\n",
    "    def __init__(self):\n",
    "        \"\"\"Create empty binary tree\"\"\"\n",
    "        self.root = None\n",
    "    def add(self, value):\n",
    "        \"\"\"Insert value into proper location in Binary Tree\"\"\"\n",
    "        if self.root is None:\n",
    "            self.root = BinaryNode(value)\n",
    "        else:\n",
    "            self.root.add(value)\n",
    "    def contains(self, target):\n",
    "        \"\"\"Check whether Binary Search Tree (BST) contains the target value\"\"\"\n",
    "        node = self.root\n",
    "        while node:\n",
    "            if target == node.value:\n",
    "                return True\n",
    "            if target < node.value:\n",
    "                node = node.left\n",
    "            else:\n",
    "                node = node.right\n",
    "        return False\n",
    "    def print_tree(self):\n",
    "        self.node = self\n",
    "        print(self.node.root.value)\n",
    "        tree_list = [self.root.value]\n",
    "        if self.root.left:\n",
    "            tree_list.append(self.root.left.value)\n",
    "        elif self.root.right:\n",
    "            tree_list.append(self.root.right.value)\n",
    "        return(tree_list)       "
   ]
  },
  {
   "cell_type": "code",
   "execution_count": 138,
   "metadata": {
    "collapsed": true
   },
   "outputs": [],
   "source": [
    "class BinaryNode:\n",
    "    def __init__(self, value = None):\n",
    "        \"\"\"Create binary node\"\"\"\n",
    "        self.value = value\n",
    "        self.left = None\n",
    "        self.right = None  \n",
    "    def add(self, value):\n",
    "        \"\"\" Adds a new node to the tree containing a value\"\"\"\n",
    "        if value <= self.value:\n",
    "            if self.left:\n",
    "                self.left.add(value)\n",
    "            else:\n",
    "                self.left = BinaryNode(value)\n",
    "        else:\n",
    "            if self.right:\n",
    "                self.right.add(value)\n",
    "            else:\n",
    "                self.right = BinaryNode(value)"
   ]
  },
  {
   "cell_type": "code",
   "execution_count": 139,
   "metadata": {
    "collapsed": true
   },
   "outputs": [],
   "source": [
    "my_tree = BinaryTree()"
   ]
  },
  {
   "cell_type": "code",
   "execution_count": 140,
   "metadata": {
    "collapsed": true
   },
   "outputs": [],
   "source": [
    "my_tree.add(20)"
   ]
  },
  {
   "cell_type": "code",
   "execution_count": 141,
   "metadata": {
    "collapsed": true
   },
   "outputs": [],
   "source": [
    "n = 41\n",
    "for i in range(41):\n",
    "    my_tree.add(random.randint(1,41))"
   ]
  },
  {
   "cell_type": "code",
   "execution_count": 142,
   "metadata": {},
   "outputs": [
    {
     "data": {
      "text/plain": [
       "False"
      ]
     },
     "execution_count": 142,
     "metadata": {},
     "output_type": "execute_result"
    }
   ],
   "source": [
    "my_tree.contains(29)"
   ]
  },
  {
   "cell_type": "code",
   "execution_count": 143,
   "metadata": {},
   "outputs": [
    {
     "name": "stdout",
     "output_type": "stream",
     "text": [
      "20\n"
     ]
    },
    {
     "data": {
      "text/plain": [
       "[20, 1]"
      ]
     },
     "execution_count": 143,
     "metadata": {},
     "output_type": "execute_result"
    }
   ],
   "source": [
    "my_tree.print_tree()"
   ]
  },
  {
   "cell_type": "code",
   "execution_count": null,
   "metadata": {
    "collapsed": true
   },
   "outputs": [],
   "source": []
  },
  {
   "cell_type": "code",
   "execution_count": null,
   "metadata": {
    "collapsed": true
   },
   "outputs": [],
   "source": []
  },
  {
   "cell_type": "code",
   "execution_count": 85,
   "metadata": {
    "collapsed": true
   },
   "outputs": [],
   "source": [
    "import random\n",
    "from time import time\n",
    "def performance():\n",
    "    \"\"\"Demonstrate the performance of the BST\"\"\"\n",
    "    \n",
    "    n = 1024\n",
    "    while n <= 65536:\n",
    "        bt = BinaryTree()\n",
    "        for i in range(n):\n",
    "            bt.add(random.randint(1,n))\n",
    "        now = time()\n",
    "        print(now)\n",
    "        does_it = bt.contains(random.randint(1,n))\n",
    "        print(does_it)\n",
    "        end = time()\n",
    "        print(end)\n",
    "        print(n, (end - now))\n",
    "        n *= 2        "
   ]
  },
  {
   "cell_type": "code",
   "execution_count": 86,
   "metadata": {},
   "outputs": [
    {
     "name": "stdout",
     "output_type": "stream",
     "text": [
      "1497384128.6214173\n",
      "False\n",
      "1497384128.6214173\n",
      "1024 0.0\n",
      "1497384128.6394932\n",
      "True\n",
      "1497384128.6399946\n",
      "2048 0.0005013942718505859\n",
      "1497384128.682079\n",
      "True\n",
      "1497384128.68259\n",
      "4096 0.0005109310150146484\n",
      "1497384128.7773342\n",
      "True\n",
      "1497384128.7773342\n",
      "8192 0.0\n",
      "1497384128.9914014\n",
      "True\n",
      "1497384128.9914014\n",
      "16384 0.0\n",
      "1497384129.3909652\n",
      "True\n",
      "1497384129.3909652\n",
      "32768 0.0\n",
      "1497384130.2031546\n",
      "True\n",
      "1497384130.2036579\n",
      "65536 0.0005033016204833984\n"
     ]
    }
   ],
   "source": [
    "performance()"
   ]
  },
  {
   "cell_type": "code",
   "execution_count": 59,
   "metadata": {},
   "outputs": [
    {
     "name": "stdout",
     "output_type": "stream",
     "text": [
      "False\n"
     ]
    }
   ],
   "source": [
    "print(bt.contains(1024))"
   ]
  },
  {
   "cell_type": "code",
   "execution_count": 19,
   "metadata": {
    "collapsed": true
   },
   "outputs": [],
   "source": [
    "class BinaryTreeAlt:\n",
    "    def __init__(self, root):\n",
    "        self.key = root\n",
    "        self.left_child = None\n",
    "        self.right_child = None\n",
    "    def insert_left(self, new_node):\n",
    "        if self.left_child == None:\n",
    "            self.left_child = BinaryTreeAlt(new_node)\n",
    "        else:\n",
    "            #t = BinaryTree(new_node)\n",
    "            #t.left_child = self.left_child\n",
    "            self.left_child = BinaryTreeAlt(new_node)\n",
    "    def insert_right(self, new_node):\n",
    "        if self.right_child == None:\n",
    "            self.right_child = BinaryTreeAlt(new_node)\n",
    "        else:\n",
    "            #t = BinaryTree(new_node)\n",
    "            #t.right_child = self.right_child\n",
    "            self.right_child = BinaryTreeAlt(new_node)\n",
    "    def contains(self, target):\n",
    "        \"\"\"Check whether Binary Search Tree (BST) contains the target value\"\"\"\n",
    "        node = self.key\n",
    "        while node:\n",
    "            if target == node.value:\n",
    "                return True\n",
    "            if target < node.value:\n",
    "                node = node.left_child\n",
    "            else:\n",
    "                node = node.right_child\n",
    "        return False\n",
    "    def get_right_child(self):\n",
    "        return self.right_child\n",
    "    def get_left_child(self):\n",
    "        return self.left_child\n",
    "    def set_root_val(self, obj):\n",
    "        self.key = obj\n",
    "    def get_root_val(self):\n",
    "        return self.key"
   ]
  },
  {
   "cell_type": "code",
   "execution_count": 20,
   "metadata": {
    "collapsed": true
   },
   "outputs": [],
   "source": [
    "my_tree = BinaryTreeAlt(5)"
   ]
  },
  {
   "cell_type": "code",
   "execution_count": 21,
   "metadata": {},
   "outputs": [
    {
     "data": {
      "text/plain": [
       "5"
      ]
     },
     "execution_count": 21,
     "metadata": {},
     "output_type": "execute_result"
    }
   ],
   "source": [
    "my_tree.get_root_val()"
   ]
  },
  {
   "cell_type": "code",
   "execution_count": 22,
   "metadata": {},
   "outputs": [
    {
     "ename": "AttributeError",
     "evalue": "'int' object has no attribute 'value'",
     "output_type": "error",
     "traceback": [
      "\u001b[1;31m---------------------------------------------------------------------------\u001b[0m",
      "\u001b[1;31mAttributeError\u001b[0m                            Traceback (most recent call last)",
      "\u001b[1;32m<ipython-input-22-2cc923416dc8>\u001b[0m in \u001b[0;36m<module>\u001b[1;34m()\u001b[0m\n\u001b[1;32m----> 1\u001b[1;33m \u001b[0mmy_tree\u001b[0m\u001b[1;33m.\u001b[0m\u001b[0mcontains\u001b[0m\u001b[1;33m(\u001b[0m\u001b[1;36m10\u001b[0m\u001b[1;33m)\u001b[0m\u001b[1;33m\u001b[0m\u001b[0m\n\u001b[0m",
      "\u001b[1;32m<ipython-input-19-e179b1a129a4>\u001b[0m in \u001b[0;36mcontains\u001b[1;34m(self, target)\u001b[0m\n\u001b[0;32m     22\u001b[0m         \u001b[0mnode\u001b[0m \u001b[1;33m=\u001b[0m \u001b[0mself\u001b[0m\u001b[1;33m.\u001b[0m\u001b[0mkey\u001b[0m\u001b[1;33m\u001b[0m\u001b[0m\n\u001b[0;32m     23\u001b[0m         \u001b[1;32mwhile\u001b[0m \u001b[0mnode\u001b[0m\u001b[1;33m:\u001b[0m\u001b[1;33m\u001b[0m\u001b[0m\n\u001b[1;32m---> 24\u001b[1;33m             \u001b[1;32mif\u001b[0m \u001b[0mtarget\u001b[0m \u001b[1;33m==\u001b[0m \u001b[0mnode\u001b[0m\u001b[1;33m.\u001b[0m\u001b[0mvalue\u001b[0m\u001b[1;33m:\u001b[0m\u001b[1;33m\u001b[0m\u001b[0m\n\u001b[0m\u001b[0;32m     25\u001b[0m                 \u001b[1;32mreturn\u001b[0m \u001b[1;32mTrue\u001b[0m\u001b[1;33m\u001b[0m\u001b[0m\n\u001b[0;32m     26\u001b[0m             \u001b[1;32mif\u001b[0m \u001b[0mtarget\u001b[0m \u001b[1;33m<\u001b[0m \u001b[0mnode\u001b[0m\u001b[1;33m.\u001b[0m\u001b[0mvalue\u001b[0m\u001b[1;33m:\u001b[0m\u001b[1;33m\u001b[0m\u001b[0m\n",
      "\u001b[1;31mAttributeError\u001b[0m: 'int' object has no attribute 'value'"
     ]
    }
   ],
   "source": [
    "my_tree.contains(10)"
   ]
  },
  {
   "cell_type": "code",
   "execution_count": null,
   "metadata": {
    "collapsed": true
   },
   "outputs": [],
   "source": []
  },
  {
   "cell_type": "code",
   "execution_count": 17,
   "metadata": {},
   "outputs": [
    {
     "data": {
      "text/plain": [
       "<__main__.BinaryTreeAlt at 0x1d3ffd20cc0>"
      ]
     },
     "execution_count": 17,
     "metadata": {},
     "output_type": "execute_result"
    }
   ],
   "source": []
  },
  {
   "cell_type": "code",
   "execution_count": null,
   "metadata": {
    "collapsed": true
   },
   "outputs": [],
   "source": []
  },
  {
   "cell_type": "code",
   "execution_count": null,
   "metadata": {
    "collapsed": true
   },
   "outputs": [],
   "source": []
  },
  {
   "cell_type": "code",
   "execution_count": null,
   "metadata": {
    "collapsed": true
   },
   "outputs": [],
   "source": []
  },
  {
   "cell_type": "code",
   "execution_count": 93,
   "metadata": {
    "collapsed": true
   },
   "outputs": [],
   "source": [
    "def performance():\n",
    "    \"\"\"Demonstrate the performance of the BST\"\"\"\n",
    "    \n",
    "    n = 1024\n",
    "    while n <= 65536:\n",
    "        bt = BinaryTreeAlt(32768)\n",
    "        for i in range(n):\n",
    "            bt.add(random.randint(1,n))\n",
    "        now = time()\n",
    "        print(now)\n",
    "        does_it = bt.contains(random.randint(1,n))\n",
    "        print(does_it)\n",
    "        end = time()\n",
    "        print(end)\n",
    "        print(n, (end - now))\n",
    "        n *= 2        "
   ]
  },
  {
   "cell_type": "code",
   "execution_count": null,
   "metadata": {
    "collapsed": true
   },
   "outputs": [],
   "source": []
  },
  {
   "cell_type": "code",
   "execution_count": 45,
   "metadata": {
    "collapsed": true
   },
   "outputs": [],
   "source": [
    "class BinaryTree:\n",
    "    def __init__(self, root):\n",
    "        self.key = root\n",
    "        self.left_child = None\n",
    "        self.right_child = None\n",
    "    def insert_left(self,new_node):\n",
    "        if self.left_child == None:\n",
    "            self.left_child = BinaryTree(new_node)\n",
    "        else:\n",
    "            self.left_child = BinaryTree(new_node)\n",
    "            \n",
    "    def insert_right(self,new_node):\n",
    "        if self.right_child == None:\n",
    "            self.right_child = BinaryTree(new_node)\n",
    "        else:\n",
    "            self.right_child = BinaryTree(new_node)\n",
    "    def get_right_child(self):\n",
    "        return self.right_child\n",
    "    def get_left_child(self):\n",
    "        return self.left_child\n",
    "    def set_root_val(self,obj):\n",
    "        self.key = obj\n",
    "    def get_root_val(self):\n",
    "        return self.key"
   ]
  },
  {
   "cell_type": "code",
   "execution_count": 46,
   "metadata": {},
   "outputs": [],
   "source": [
    "my_tree = BinaryTree('a')"
   ]
  },
  {
   "cell_type": "code",
   "execution_count": 47,
   "metadata": {},
   "outputs": [],
   "source": [
    "my_tree.insert_left('b')\n",
    "my_tree.insert_right('c')"
   ]
  },
  {
   "cell_type": "code",
   "execution_count": 48,
   "metadata": {},
   "outputs": [
    {
     "name": "stdout",
     "output_type": "stream",
     "text": [
      "a\n"
     ]
    }
   ],
   "source": [
    "r = BinaryTree('a')\n",
    "print(r.get_root_val())"
   ]
  },
  {
   "cell_type": "code",
   "execution_count": 49,
   "metadata": {},
   "outputs": [
    {
     "name": "stdout",
     "output_type": "stream",
     "text": [
      "<__main__.BinaryTree object at 0x000001D3FFD6C320>\n",
      "<__main__.BinaryTree object at 0x000001D3FFD6CC18>\n"
     ]
    }
   ],
   "source": [
    "r.insert_left('b')\n",
    "print(r.get_left_child())\n",
    "r.insert_right('c')\n",
    "print(r.get_right_child())"
   ]
  },
  {
   "cell_type": "code",
   "execution_count": 51,
   "metadata": {},
   "outputs": [
    {
     "name": "stdout",
     "output_type": "stream",
     "text": [
      "c\n",
      "b\n"
     ]
    }
   ],
   "source": [
    "print(r.get_right_child().get_root_val())\n",
    "print(r.get_left_child().get_root_val())"
   ]
  },
  {
   "cell_type": "code",
   "execution_count": null,
   "metadata": {
    "collapsed": true
   },
   "outputs": [],
   "source": []
  },
  {
   "cell_type": "code",
   "execution_count": null,
   "metadata": {
    "collapsed": true
   },
   "outputs": [],
   "source": []
  }
 ],
 "metadata": {
  "anaconda-cloud": {},
  "kernelspec": {
   "display_name": "Python 3",
   "language": "python",
   "name": "python3"
  },
  "language_info": {
   "codemirror_mode": {
    "name": "ipython",
    "version": 3
   },
   "file_extension": ".py",
   "mimetype": "text/x-python",
   "name": "python",
   "nbconvert_exporter": "python",
   "pygments_lexer": "ipython3",
   "version": "3.5.3"
  }
 },
 "nbformat": 4,
 "nbformat_minor": 2
}
