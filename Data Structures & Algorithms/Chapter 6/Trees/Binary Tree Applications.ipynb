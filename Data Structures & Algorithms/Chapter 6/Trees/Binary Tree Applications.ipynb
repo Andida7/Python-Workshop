{
 "cells": [
  {
   "cell_type": "markdown",
   "metadata": {},
   "source": [
    "## Introduction\n",
    "\n",
    "With the implementation of our tree data structure complete, we now look at an example of\n",
    "how a tree can be used to solve some real problems. \n",
    "\n",
    "We will be looking at parse trees. Parse trees can be used to represent real-world constructions like sentences or mathematical expressions.\n",
    "\n",
    "Representing a sentence as a tree structure allows us to work with the individual parts of the sentence by using subtrees. We can also represent a mathematical expression such as ((7 + 3) * (5 − 2)) as a parse tree. We have already looked at fully parenthesized expressions, so what\n",
    "do we know about this expression? We know that multiplication has a higher precedence than\n",
    "either addition or subtraction. Because of the parentheses, we know that before we can do the\n",
    "multiplication we must evaluate the parenthesized addition and subtraction expressions. The hierarchy\n",
    "of the tree helps us understand the order of evaluation for the whole expression. Before\n",
    "we can evaluate the top-level multiplication, we must evaluate the addition and the subtraction\n",
    "in the subtrees. The addition, which is the left subtree, evaluates to 10. The subtraction, which\n",
    "is the right subtree, evaluates to 3. Using the hierarchical structure of trees, we can simply replace an entire subtree with one node once we have evaluated the expressions in the children."
   ]
  },
  {
   "cell_type": "markdown",
   "metadata": {},
   "source": [
    "## How to Build a Parse Tree\n",
    "\n",
    "The first step in building a parse tree is to break up the expression string into a list of tokens.\n",
    "\n",
    "For expressions of this kind, there are four different kinds of tokens to consider: left parentheses, right parentheses, operators,\n",
    "and operands. \n",
    "\n",
    "We know that whenever we read a left parenthesis we are starting a new expression, and hence we should create a new tree to correspond to that expression. Conversely,\n",
    "whenever we read a right parenthesis, we have finished an expression. We also know\n",
    "that operands are going to be leaf nodes and children of their operators. Finally, we know that\n",
    "every operator is going to have both a left and a right child.\n",
    "\n",
    "\n",
    "Using the information from above we can define four rules as follows:\n",
    "1. If the current token is a ‘(’, add a new node as the left child of the current node, and\n",
    "descend to the left child.\n",
    "2. If the current token is in the list [‘+’,‘−’,‘/’,‘*’], set the root value of the current node to\n",
    "the operator represented by the current token. Add a new node as the right child of the\n",
    "current node and descend to the right child.\n",
    "3. If the current token is a number, set the root value of the current node to the number and\n",
    "return to the parent.\n",
    "4. If the current token is a ‘)’, go to the parent of the current node."
   ]
  },
  {
   "cell_type": "markdown",
   "metadata": {},
   "source": [
    "### How To do this in Python\n",
    "\n",
    "Before writing the Python code, let’s look at an example of the rules outlined above in action.\n",
    "We will use the expression (3+(4 * 5)). \n",
    "\n",
    "We will parse this expression into the following list of\n",
    "character tokens \n",
    "\n",
    "<b>[‘(’, ‘3’, ‘+’, ‘(’, ‘4’, ‘*’, ‘5’ ,‘)’, ‘)’]</b>. \n",
    "\n",
    "Initially we will start out with a parse\n",
    "tree that consists of an empty root node. \n",
    "\n",
    "Let’s walk through the example step by step:\n",
    "1. Create an empty tree.\n",
    "2. Read ( as the first token. By rule 1, create a new node as the left child of the root. Make\n",
    "the current node this new child.\n",
    "3. Read 3 as the next token. By rule 3, set the root value of the current node to 3 (root value simply refers to the value contained by the node - the current node) and go\n",
    "back up the tree to the parent.\n",
    "4. Read + as the next token. By rule 2, set the root value of the current node to + and add\n",
    "a new node as the right child. The new right child becomes the current node.\n",
    "5. Read a ( as the next token. By rule 1, create a new node as the left child of the current\n",
    "node. The new left child becomes the current node.\n",
    "6. Read a 4 as the next token. By rule 3, set the value of the current node to 4. Make the\n",
    "parent of 4 the current node.\n",
    "7. Read * as the next token. By rule 2, set the root value of the current node to * and create\n",
    "a new right child. The new right child becomes the current node.\n",
    "8. Read 5 as the next token. By rule 3, set the root value of the current node to 5. Make the\n",
    "parent of 5 the current node.\n",
    "9. Read ) as the next token. By rule 4 we make the parent of * the current node.\n",
    "10. Read ) as the next token. By rule 4 we make the parent of + the current node. At this\n",
    "point there is no parent for + so we are done."
   ]
  },
  {
   "cell_type": "code",
   "execution_count": null,
   "metadata": {
    "collapsed": true
   },
   "outputs": [],
   "source": []
  },
  {
   "cell_type": "markdown",
   "metadata": {},
   "source": [
    "### The Implementation\n",
    "We will need the help of Stacks and Binary Trees to be able to achieve this."
   ]
  },
  {
   "cell_type": "code",
   "execution_count": null,
   "metadata": {
    "collapsed": true
   },
   "outputs": [],
   "source": []
  },
  {
   "cell_type": "code",
   "execution_count": 5,
   "metadata": {
    "collapsed": true
   },
   "outputs": [],
   "source": [
    "# Completed implementation of a stack ADT (ADT stands for Abstract Data Types)\n",
    "class Stack:\n",
    "    # Constructor\n",
    "    def __init__(self):\n",
    "        self.items = []\n",
    "    # all stack operations as methods\n",
    "    \n",
    "    # is_empty() tests to see whether the stack is empty. It needs no parameters and returns a boolean value.\n",
    "    def is_empty(self):\n",
    "        return self.items == []\n",
    "    def push(self, item): #It needs the item and returns nothing.\n",
    "        self.items.append(item)\n",
    "    def pop(self): # It needs no parameters and returns the item. The stack is modified.\n",
    "        return self.items.pop()\n",
    "    # returns the top item from the stack but does not remove it. It needs no parameters.\n",
    "    # The stack is not modified.\n",
    "    def peek(self): \n",
    "        return self.items[len(self.items)-1]\n",
    "    # size() returns the number of items on the stack. It needs no parameters and returns an integer.\n",
    "    def size(self):\n",
    "        return len(self.items)"
   ]
  },
  {
   "cell_type": "code",
   "execution_count": 6,
   "metadata": {
    "collapsed": true
   },
   "outputs": [],
   "source": [
    "## Lets use a different Binary Tree Implementation for the ease of handling this problem.\n",
    "\n",
    "def binary_tree(r):\n",
    "    return [r, [], []]\n",
    "def insert_left(root, new_branch):\n",
    "    t = root.pop(1)\n",
    "    if len(t) > 1:\n",
    "        root.insert(1, [new_branch, t, []])\n",
    "    else:\n",
    "        root.insert(1, [new_branch, [], []])\n",
    "    return root\n",
    "def insert_right(root, new_branch):\n",
    "    t = root.pop(2)\n",
    "    if len(t) > 1:\n",
    "        root.insert(2, [new_branch, [], t])\n",
    "    else:\n",
    "        root.insert(2, [new_branch, [], []])\n",
    "    return root\n",
    "def get_root_val(root):\n",
    "    return root[0]\n",
    "def set_root_val(root, new_val):\n",
    "    root[0] = new_val\n",
    "def get_left_child(root):\n",
    "    return root[1]\n",
    "def get_right_child(root):\n",
    "    return root[2]"
   ]
  },
  {
   "cell_type": "code",
   "execution_count": null,
   "metadata": {
    "collapsed": true
   },
   "outputs": [],
   "source": []
  },
  {
   "cell_type": "code",
   "execution_count": null,
   "metadata": {
    "collapsed": true
   },
   "outputs": [],
   "source": []
  },
  {
   "cell_type": "code",
   "execution_count": null,
   "metadata": {
    "collapsed": true
   },
   "outputs": [],
   "source": []
  },
  {
   "cell_type": "code",
   "execution_count": null,
   "metadata": {
    "collapsed": true
   },
   "outputs": [],
   "source": []
  },
  {
   "cell_type": "code",
   "execution_count": null,
   "metadata": {
    "collapsed": true
   },
   "outputs": [],
   "source": []
  }
 ],
 "metadata": {
  "anaconda-cloud": {},
  "kernelspec": {
   "display_name": "Python 3",
   "language": "python",
   "name": "python3"
  },
  "language_info": {
   "codemirror_mode": {
    "name": "ipython",
    "version": 3
   },
   "file_extension": ".py",
   "mimetype": "text/x-python",
   "name": "python",
   "nbconvert_exporter": "python",
   "pygments_lexer": "ipython3",
   "version": "3.5.3"
  }
 },
 "nbformat": 4,
 "nbformat_minor": 2
}
