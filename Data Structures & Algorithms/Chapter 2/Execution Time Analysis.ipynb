{
 "cells": [
  {
   "cell_type": "code",
   "execution_count": 15,
   "metadata": {
    "collapsed": true
   },
   "outputs": [],
   "source": [
    "import time\n",
    "def sum_of_n(n):\n",
    "    start = time.time()\n",
    "    n_sum = 0\n",
    "    for i in range(1, n+1):\n",
    "        n_sum = n_sum + i\n",
    "    end = time.time()\n",
    "    return n_sum,end-start"
   ]
  },
  {
   "cell_type": "code",
   "execution_count": 16,
   "metadata": {
    "collapsed": false
   },
   "outputs": [
    {
     "name": "stdout",
     "output_type": "stream",
     "text": [
      "Sum is 50005000 required  0.0005009 seconds\n",
      "Sum is 50005000 required  0.0005014 seconds\n",
      "Sum is 50005000 required  0.0005009 seconds\n",
      "Sum is 50005000 required  0.0010028 seconds\n",
      "Sum is 50005000 required  0.0005014 seconds\n"
     ]
    }
   ],
   "source": [
    "for i in range(5):\n",
    "    print(\"Sum is %d required %10.7f seconds\" % sum_of_n(10000))"
   ]
  },
  {
   "cell_type": "code",
   "execution_count": 17,
   "metadata": {
    "collapsed": true
   },
   "outputs": [],
   "source": [
    "# If we analyze the performance for the first 1000000 numbers"
   ]
  },
  {
   "cell_type": "code",
   "execution_count": 18,
   "metadata": {
    "collapsed": false
   },
   "outputs": [
    {
     "name": "stdout",
     "output_type": "stream",
     "text": [
      "Sum is 500000500000 required  0.0782065 seconds\n",
      "Sum is 500000500000 required  0.0646460 seconds\n",
      "Sum is 500000500000 required  0.0611508 seconds\n",
      "Sum is 500000500000 required  0.0601616 seconds\n",
      "Sum is 500000500000 required  0.0656435 seconds\n"
     ]
    }
   ],
   "source": [
    "for i in range(5):\n",
    "    print(\"Sum is %d required %10.7f seconds\" %sum_of_n_2(1000000))"
   ]
  },
  {
   "cell_type": "code",
   "execution_count": 19,
   "metadata": {
    "collapsed": true
   },
   "outputs": [],
   "source": [
    "# In this case, the average turns out to be about 10 times or more than that for the previous."
   ]
  },
  {
   "cell_type": "code",
   "execution_count": null,
   "metadata": {
    "collapsed": true
   },
   "outputs": [],
   "source": []
  },
  {
   "cell_type": "code",
   "execution_count": null,
   "metadata": {
    "collapsed": true
   },
   "outputs": [],
   "source": []
  },
  {
   "cell_type": "code",
   "execution_count": 28,
   "metadata": {
    "collapsed": false
   },
   "outputs": [
    {
     "name": "stdout",
     "output_type": "stream",
     "text": [
      "When i is = 0\n",
      "When j is = 0\n",
      "x is 0\n",
      "y is 0\n",
      "z is 0\n",
      "When j is = 1\n",
      "x is 0\n",
      "y is 1\n",
      "z is 0\n",
      "When i is = 1\n",
      "When j is = 0\n",
      "x is 1\n",
      "y is 0\n",
      "z is 0\n",
      "When j is = 1\n",
      "x is 1\n",
      "y is 1\n",
      "z is 1\n"
     ]
    }
   ],
   "source": [
    "n= 2\n",
    "a = 5\n",
    "b = 6\n",
    "c = 10\n",
    "count = 0\n",
    "for i in range(n):\n",
    "    print('When i is =',i)\n",
    "    for j in range(n):\n",
    "        print('When j is =',j)\n",
    "        #count += 2\n",
    "        #print('Count is',count)\n",
    "        x = i * i\n",
    "        print('x is',x)\n",
    "        y = j * j\n",
    "        print('y is',y)\n",
    "        z = i * j\n",
    "        print('z is',z)\n",
    "for k in range(n):\n",
    "    w = a * k + 45\n",
    "    v = b * b\n",
    "d = 33"
   ]
  },
  {
   "cell_type": "markdown",
   "metadata": {},
   "source": [
    "As we can see, from the nested for loop, 3 assignment operations on x,y and z are performed 4 times since n is 2 and we have 2 nested for loops and hence 2x2 = 4. Therefore we have 4x3 = 12 assignment operations in total.\n",
    "\n",
    "This can be represented by 3𝑛^2"
   ]
  },
  {
   "cell_type": "code",
   "execution_count": 29,
   "metadata": {
    "collapsed": true
   },
   "outputs": [],
   "source": [
    "    n= 2; a = 5; b = 6; c = 10\n",
    "    for i in range(n):\n",
    "        for j in range(n):\n",
    "            x = i * i\n",
    "            y = j * j\n",
    "            z = i * j\n",
    "    for k in range(n):\n",
    "        w = a * k + 45\n",
    "        v = b * b\n",
    "    d = 33"
   ]
  },
  {
   "cell_type": "code",
   "execution_count": null,
   "metadata": {
    "collapsed": true
   },
   "outputs": [],
   "source": []
  },
  {
   "cell_type": "markdown",
   "metadata": {},
   "source": [
    "### Anagram problem"
   ]
  },
  {
   "cell_type": "code",
   "execution_count": 65,
   "metadata": {
    "collapsed": false
   },
   "outputs": [
    {
     "name": "stdout",
     "output_type": "stream",
     "text": [
      "True\n"
     ]
    }
   ],
   "source": [
    "# Solution 1 : Sort and Compare\n",
    "\n",
    "# Here we strip the string of any space, convert them to lists and then sort them before comparing\n",
    "# corresponding index positions in each list.\n",
    "\n",
    "def anagram_solution_1(string1,string2):\n",
    "    string1 = string1.replace(' ','')\n",
    "    string2 = string2.replace(' ','')\n",
    "    list_1 = list(string1)\n",
    "    list_2 = list(string2)\n",
    "    list_1.sort()\n",
    "    list_2.sort()\n",
    "    index = 0\n",
    "    matches = True\n",
    "    while index < len(string1) and matches:\n",
    "        if list_1[index] == list_2[index]:\n",
    "            index = index + 1\n",
    "        else:\n",
    "            matches = False\n",
    "    return matches\n",
    "print(anagram_solution_1('mother in law','hitler woman'))"
   ]
  },
  {
   "cell_type": "code",
   "execution_count": 75,
   "metadata": {
    "collapsed": false
   },
   "outputs": [],
   "source": [
    "# Solution 2: Count and Compare\n",
    "\n",
    "'''\n",
    "In this approach, we initially create two separate lists of 26 zeros.\n",
    "Step 1 : Identifying a character\n",
    "Following that, we get the ascii value of a character using the ord() funtion and compare it \n",
    "against the ascii value of a to get the positional value of an alphabet.\n",
    "Example b is at 2, e is at 5 and so on.\n",
    "\n",
    "Step 2 : Counting character occurences\n",
    "Using the value, we add 1 to the corresponding item in the 'c'  lists we created. \n",
    "when an alphabet repeats itself in the string, we increment it again by 1.\n",
    "For example, in apple, p repeats twice and hence, the position 15 in the list will have a value 2.\n",
    "\n",
    "Step 3 : Comparison\n",
    "Once that is done, we compare the two lists, and as long as the corresponding elements in both\n",
    "lists hold the same value, we are looking at an anagram. If it is not, we return false.\n",
    "'''\n",
    "def anagram_solution4(s1, s2):\n",
    "    s1 = s1.replace(' ','')\n",
    "    s2 = s2.replace(' ','')\n",
    "    c1 = [0] * 26\n",
    "    c2 = [0] * 26\n",
    "    for i in range(len(s1)):\n",
    "        pos = ord(s1[i]) - ord('a')\n",
    "        c1[pos] = c1[pos] + 1\n",
    "    for i in range(len(s2)):\n",
    "        pos = ord(s2[i]) - ord('a')\n",
    "        c2[pos] = c2[pos] + 1\n",
    "    j = 0\n",
    "    still_ok = True\n",
    "    while j < 26 and still_ok:\n",
    "        if c1[j] == c2[j]:\n",
    "            j = j + 1\n",
    "        else:\n",
    "            still_ok = False\n",
    "    return still_ok"
   ]
  },
  {
   "cell_type": "code",
   "execution_count": 77,
   "metadata": {
    "collapsed": false
   },
   "outputs": [
    {
     "data": {
      "text/plain": [
       "True"
      ]
     },
     "execution_count": 77,
     "metadata": {},
     "output_type": "execute_result"
    }
   ],
   "source": [
    "anagram_solution4('apple','pleap')"
   ]
  },
  {
   "cell_type": "code",
   "execution_count": null,
   "metadata": {
    "collapsed": true
   },
   "outputs": [],
   "source": []
  },
  {
   "cell_type": "code",
   "execution_count": null,
   "metadata": {
    "collapsed": true
   },
   "outputs": [],
   "source": []
  },
  {
   "cell_type": "code",
   "execution_count": null,
   "metadata": {
    "collapsed": true
   },
   "outputs": [],
   "source": []
  },
  {
   "cell_type": "code",
   "execution_count": null,
   "metadata": {
    "collapsed": true
   },
   "outputs": [],
   "source": []
  }
 ],
 "metadata": {
  "anaconda-cloud": {},
  "kernelspec": {
   "display_name": "Python [conda env:data]",
   "language": "python",
   "name": "conda-env-data-py"
  },
  "language_info": {
   "codemirror_mode": {
    "name": "ipython",
    "version": 3
   },
   "file_extension": ".py",
   "mimetype": "text/x-python",
   "name": "python",
   "nbconvert_exporter": "python",
   "pygments_lexer": "ipython3",
   "version": "3.5.3"
  }
 },
 "nbformat": 4,
 "nbformat_minor": 1
}
