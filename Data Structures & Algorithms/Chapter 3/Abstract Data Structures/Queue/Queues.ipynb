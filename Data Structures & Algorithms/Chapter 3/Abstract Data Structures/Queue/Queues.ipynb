{
 "cells": [
  {
   "cell_type": "markdown",
   "metadata": {},
   "source": [
    "## Introduction\n",
    "Another very important linear data structure is \"queue\". Like\n",
    "stacks, queues are relatively simple and yet can be used to solve a wide range of important\n",
    "problems."
   ]
  },
  {
   "cell_type": "markdown",
   "metadata": {},
   "source": [
    "A queue is an ordered collection of items where the addition of new items happens at one end,\n",
    "called the “rear,” and the removal of existing items occurs at the other end, commonly called\n",
    "the “front.” \n",
    "\n",
    "As an element enters the queue it starts at the rear and makes its way toward the\n",
    "front, waiting until that time when it is the next element to be removed.\n",
    "The most recently added item in the queue must wait at the end of the collection. The item that\n",
    "has been in the collection the longest is at the front. This ordering principle is sometimes called\n",
    "FIFO, first-in first-out. It is also known as “first-come first-served.”\n",
    "\n",
    "\n",
    "The simplest example of a queue is the typical line that we all participate in from time to time.\n",
    "We wait in a line for a movie, we wait in the check-out line at a grocery store, and we wait in\n",
    "the cafeteria line (so that we can pop the tray stack). Well-behaved lines, or queues, are very\n",
    "restrictive in that they have only one way in and only one way out. There is no jumping in the\n",
    "middle and no leaving before you have waited the necessary amount of time to get to the front.\n",
    "\n",
    "Computer science also has common examples of queues. in the computer laboratory when students want to print, their print tasks “get in line” with all the other printing tasks that are waiting. The first task in is the next to be completed. If you are last in line, you must wait for all the other tasks to print ahead of you.\n",
    "\n",
    "In addition to printing queues, operating systems use a number of different queues to control\n",
    "processes within a computer. The scheduling of what gets done next is typically based on\n",
    "a queuing algorithm that tries to execute programs as quickly as possible and serve as many\n",
    "users as it can. Also, as we type, sometimes keystrokes get ahead of the characters that appear\n",
    "on the screen. This is due to the computer doing other work at that moment. The keystrokes\n",
    "are being placed in a queue-like buffer so that they can eventually be displayed on the screen\n",
    "in the proper order."
   ]
  },
  {
   "cell_type": "markdown",
   "metadata": {},
   "source": [
    "## The Queue Abstract Data Type\n",
    "The queue abstract data type is defined by the following structure and operations. A queue is\n",
    "structured, as described above, as an ordered collection of items which are added at one end,\n",
    "called the “rear,” and removed from the other end, called the “front.” Queues maintain a FIFO\n",
    "ordering property. The queue operations are given below.\n",
    "\n",
    "• Queue() creates a new queue that is empty. It needs no parameters and returns an empty\n",
    "queue.\n",
    "\n",
    "• enqueue(item) adds a new item to the rear of the queue. It needs the item and returns\n",
    "nothing.\n",
    "\n",
    "• dequeue() removes the front item from the queue. It needs no parameters and returns the\n",
    "item. The queue is modified.\n",
    "\n",
    "• is_empty() tests to see whether the queue is empty. It needs no parameters and returns a\n",
    "boolean value.\n",
    "\n",
    "• size() returns the number of items in the queue. It needs no parameters and returns an\n",
    "integer."
   ]
  },
  {
   "cell_type": "markdown",
   "metadata": {},
   "source": [
    "## Implementing A Queue in Python\n",
    "We create a new class for the implementation of the abstract data type\n",
    "queue. As before (with the stacks), we will use the power and simplicity of the list collection to build the\n",
    "internal representation of the queue.\n",
    "\n",
    "We need to decide which end of the list to use as the rear and which to use as the front. The\n",
    "implementation shown below assumes that the rear is at position 0 in the list. This allows us to\n",
    "use the insert function on lists to add new elements to the rear of the queue. \n",
    "\n",
    "The Pop operation can be used to remove the front element (the last element of the list)."
   ]
  },
  {
   "cell_type": "code",
   "execution_count": 2,
   "metadata": {},
   "outputs": [],
   "source": [
    "# Completed implementation of a queue ADT\n",
    "class Queue:\n",
    "    def __init__(self):\n",
    "        self.items = []\n",
    "    def is_empty(self):\n",
    "        return self.items == []\n",
    "    def enqueue(self, item):\n",
    "        self.items.insert(0,item)\n",
    "    def dequeue(self):\n",
    "        return self.items.pop()\n",
    "    def size(self):\n",
    "        return len(self.items)\n",
    "    def show(self):\n",
    "        return self.items"
   ]
  },
  {
   "cell_type": "code",
   "execution_count": 3,
   "metadata": {},
   "outputs": [],
   "source": [
    "q = Queue()\n",
    "q.enqueue('hello')\n",
    "q.enqueue('dog')"
   ]
  },
  {
   "cell_type": "code",
   "execution_count": 4,
   "metadata": {},
   "outputs": [
    {
     "data": {
      "text/plain": [
       "['dog', 'hello']"
      ]
     },
     "execution_count": 4,
     "metadata": {},
     "output_type": "execute_result"
    }
   ],
   "source": [
    "q.show()"
   ]
  },
  {
   "cell_type": "code",
   "execution_count": 5,
   "metadata": {},
   "outputs": [
    {
     "data": {
      "text/plain": [
       "2"
      ]
     },
     "execution_count": 5,
     "metadata": {},
     "output_type": "execute_result"
    }
   ],
   "source": [
    "q.size()"
   ]
  },
  {
   "cell_type": "code",
   "execution_count": 7,
   "metadata": {},
   "outputs": [
    {
     "data": {
      "text/plain": [
       "False"
      ]
     },
     "execution_count": 7,
     "metadata": {},
     "output_type": "execute_result"
    }
   ],
   "source": [
    "q.is_empty()"
   ]
  },
  {
   "cell_type": "code",
   "execution_count": 9,
   "metadata": {},
   "outputs": [
    {
     "data": {
      "text/plain": [
       "'dog'"
      ]
     },
     "execution_count": 9,
     "metadata": {},
     "output_type": "execute_result"
    }
   ],
   "source": [
    "q.dequeue()"
   ]
  },
  {
   "cell_type": "code",
   "execution_count": 10,
   "metadata": {},
   "outputs": [
    {
     "data": {
      "text/plain": [
       "True"
      ]
     },
     "execution_count": 10,
     "metadata": {},
     "output_type": "execute_result"
    }
   ],
   "source": [
    "q.is_empty()"
   ]
  },
  {
   "cell_type": "markdown",
   "metadata": {},
   "source": [
    "## Simulation of Queues\n",
    "One of the typical applications for showing a queue in action is to simulate a real situation that\n",
    "requires data to be managed in a FIFO manner. To begin, let’s consider the children’s game\n",
    "Hot Potato. In this game, children line up in a circle and pass an item from\n",
    "neighbour to neighbour as fast as they can. At a certain point in the game, the action is stopped\n",
    "and the child who has the item (the potato) is removed from the circle. Play continues until\n",
    "only one child is left.\n",
    "\n",
    "We will implement a general simulation of Hot Potato. Our program will input a list of names\n",
    "and a constant, call it “num” to be used for counting. It will return the name of the last person\n",
    "remaining after repetitive counting by num. What happens at that point (after getting this name) is up to us.\n",
    "\n",
    "To simulate the circle, we will use a queue."
   ]
  },
  {
   "cell_type": "code",
   "execution_count": 12,
   "metadata": {},
   "outputs": [],
   "source": [
    "def hot_potato(name_list, num):\n",
    "    simple_queue = Queue()\n",
    "    for name in name_list:\n",
    "        simple_queue.enqueue(name)\n",
    "    while simple_queue.size() > 1:\n",
    "        for i in range(num):\n",
    "            # Dequeue the oldest element in the queue and add it to the rear end.\n",
    "            # More like rotate the queue (imagine a circle) and remove the element at the end\n",
    "            # catch it and push it back.. But this goes on only for the count equalling \"num\"\n",
    "            simple_queue.enqueue(simple_queue.dequeue())\n",
    "            print(simple_queue.show())\n",
    "        # when the count is up, remove the end element for real this time.\n",
    "        simple_queue.dequeue()\n",
    "    return simple_queue.dequeue()"
   ]
  },
  {
   "cell_type": "code",
   "execution_count": 13,
   "metadata": {},
   "outputs": [
    {
     "name": "stdout",
     "output_type": "stream",
     "text": [
      "['Bill', 'Brad', 'Kent', 'Jane', 'Susan', 'David']\n",
      "['David', 'Bill', 'Brad', 'Kent', 'Jane', 'Susan']\n",
      "['Susan', 'David', 'Bill', 'Brad', 'Kent', 'Jane']\n",
      "['Kent', 'Susan', 'David', 'Bill', 'Brad']\n",
      "['Brad', 'Kent', 'Susan', 'David', 'Bill']\n",
      "['Bill', 'Brad', 'Kent', 'Susan', 'David']\n",
      "['Susan', 'Bill', 'Brad', 'Kent']\n",
      "['Kent', 'Susan', 'Bill', 'Brad']\n",
      "['Brad', 'Kent', 'Susan', 'Bill']\n",
      "['Susan', 'Brad', 'Kent']\n",
      "['Kent', 'Susan', 'Brad']\n",
      "['Brad', 'Kent', 'Susan']\n",
      "['Kent', 'Brad']\n",
      "['Brad', 'Kent']\n",
      "['Kent', 'Brad']\n",
      "Kent\n"
     ]
    }
   ],
   "source": [
    "print(hot_potato([\"Bill\", \"David\", \"Susan\", \"Jane\", \"Kent\", \"Brad\"], 3))"
   ]
  },
  {
   "cell_type": "markdown",
   "metadata": {
    "collapsed": true
   },
   "source": [
    "Note that in this example the value of the counting constant is greater than the number of names\n",
    "in the list. This is not a problem since the queue acts like a circle and counting continues back at\n",
    "the beginning until the value is reached. Also, notice that the list is loaded into the queue such\n",
    "that the first name on the list will be at the front of the queue. Bill in this case is the first item\n",
    "in the list and therefore moves to the front of the queue. A variation of this implementation,\n",
    "described in the exercises, allows for a random counter."
   ]
  },
  {
   "cell_type": "markdown",
   "metadata": {
    "collapsed": true
   },
   "source": [
    "## Simulation: Printing Tasks\n",
    "\n",
    "A more interesting simulation allows us to study the behavior of the printing queue described\n",
    "earlier in this section. Recall that as students send printing tasks to the shared printer, the tasks\n",
    "are placed in a queue to be processed in a first-come first-served manner. Many questions arise\n",
    "with this configuration. The most important of these might be whether the printer is capable of\n",
    "handling a certain amount of work. If it cannot, students will be waiting too long for printing\n",
    "and may miss their next class.\n",
    "\n",
    "Consider the following situation in a computer science laboratory. On any average day about\n",
    "10 students are working in the lab at any given hour. These students typically print up to twice\n",
    "during that time, and the length of these tasks ranges from 1 to 20 pages. The printer in the\n",
    "lab is older, capable of processing 10 pages per minute of draft quality. The printer could be\n",
    "switched to give better quality, but then it would produce only five pages per minute. The\n",
    "slower printing speed could make students wait too long. What page rate should be used?\n",
    "\n",
    "We could decide by building a simulation that models the laboratory. We will need to construct\n",
    "representations for students, printing tasks, and the printer. As students submit\n",
    "printing tasks, we will add them to a waiting list, a queue of print tasks attached to the printer.\n",
    "When the printer completes a task, it will look at the queue to see if there are any remaining\n",
    "tasks to process. Of interest for us is the average amount of time students will wait for their\n",
    "papers to be printed. This is equal to the average amount of time a task waits in the queue.\n",
    "\n",
    "To model this situation we need to use some probabilities. For example, students may print\n",
    "a paper from 1 to 20 pages in length. If each length from 1 to 20 is equally likely, the actual\n",
    "length for a print task can be simulated by using a random number between 1 and 20 inclusive.\n",
    "This means that there is equal chance of any length from 1 to 20 appearing.\n",
    "\n",
    "If there are 10 students in the lab and each prints twice, then there are 20 print tasks per hour\n",
    "on average. What is the chance that at any given second, a print task is going to be created?\n",
    "The way to answer this is to consider the ratio of tasks to time. Twenty tasks per hour means\n",
    "that on average there will be one task every 180 seconds:\n",
    "\n",
    "For every second we can simulate the chance that a print task occurs by generating a random\n",
    "number between 1 and 180 inclusive. If the number is 180, we say a task has been created.\n",
    "Note that it is possible that many tasks could be created in a row or we may wait quite a while\n",
    "for a task to appear. That is the nature of simulation. You want to simulate the real situation as\n",
    "closely as possible given that you know general parameters."
   ]
  },
  {
   "cell_type": "markdown",
   "metadata": {},
   "source": [
    "### Main Simulation Steps\n",
    "\n",
    "Here is the main simulation.\n",
    "1. Create a queue of print tasks. Each task will be given a timestamp upon its arrival. The\n",
    "queue is empty to start.\n",
    "\n",
    "2. For each second (current_second):\n",
    "\n",
    "    -Does a new print task get created? If so, add it to the queue with the current_second\n",
    "as the timestamp.\n",
    "\n",
    "    • If the printer is not busy and if a task is waiting,\n",
    "\n",
    "    – Remove the next task (as in the task at the front from where the queue gets dequeued normally) from the print queue and assign it to the printer.\n",
    "\n",
    "    – Subtract the timestamp from the current_second to compute the waiting time\n",
    "for that task.\n",
    "\n",
    "    – Append the waiting time for that task to a list for later processing.\n",
    "\n",
    "    – Based on the number of pages in the print task, figure out how much time will\n",
    "be required (the printer will come up with an estimated time in seconds probably).\n",
    "\n",
    "    • The printer now does one second of printing if necessary. It also subtracts one\n",
    "second from the time required for that task (its referring to the estimate).\n",
    "\n",
    "    • If the task has been completed, in other words the time required has reached zero,\n",
    "the printer is no longer busy.\n",
    "\n",
    "3. After the simulation is complete, compute the average waiting time from the list of waiting times generated.\n",
    "\n",
    "### Python Implementation\n",
    "\n",
    "#### Part 1\n",
    "To design this simulation we will create classes for the three real-world objects described above:\n",
    "Printer, Task, and PrintQueue.\n",
    "\n",
    "The Printer class will need to track whether it has a current task. If it does, then it is busy\n",
    "and the amount of time needed can be computed from the number of pages in the task. The\n",
    "constructor will also allow the pages-per-minute setting to be initialized. The tick method\n",
    "decrements the internal timer and sets the printer to idle if the task is completed.\n"
   ]
  },
  {
   "cell_type": "code",
   "execution_count": 16,
   "metadata": {},
   "outputs": [],
   "source": [
    "class Printer:\n",
    "    def __init__(self, ppm):\n",
    "        self.page_rate = ppm\n",
    "        self.current_task = None\n",
    "        self.time_remaining = 0\n",
    "    def tick(self):\n",
    "        if self.current_task != None:\n",
    "            self.time_remaining = self.time_remaining - 1\n",
    "        if self.time_remaining <= 0:\n",
    "            self.current_task = None\n",
    "    def busy(self):\n",
    "        if self.current_task != None:\n",
    "            return True\n",
    "        else:\n",
    "            return False\n",
    "    def start_next(self,new_task):\n",
    "        self.current_task = new_task\n",
    "        self.time_remaining = new_task.get_pages() * 60 / self.page_rate"
   ]
  },
  {
   "cell_type": "markdown",
   "metadata": {},
   "source": [
    "The Task class will represent a single printing task. When the task is created, a random number\n",
    "generator will provide a length from 1 to 20 pages. We have chosen to use the randrange\n",
    "function from the random module."
   ]
  },
  {
   "cell_type": "code",
   "execution_count": 17,
   "metadata": {},
   "outputs": [
    {
     "data": {
      "text/plain": [
       "19"
      ]
     },
     "execution_count": 17,
     "metadata": {},
     "output_type": "execute_result"
    }
   ],
   "source": [
    "# This is how it works\n",
    "import random\n",
    "random.randrange(1, 21)"
   ]
  },
  {
   "cell_type": "code",
   "execution_count": 18,
   "metadata": {},
   "outputs": [
    {
     "data": {
      "text/plain": [
       "20"
      ]
     },
     "execution_count": 18,
     "metadata": {},
     "output_type": "execute_result"
    }
   ],
   "source": [
    "random.randrange(1,21)"
   ]
  },
  {
   "cell_type": "markdown",
   "metadata": {},
   "source": [
    "#### Part 2\n",
    "Each task will also need to keep a timestamp to be used for computing waiting time. This\n",
    "timestamp will represent the time that the task was created and placed in the printer queue. The\n",
    "wait_time method can then be used to retrieve the amount of time spent in the queue before\n",
    "printing begins."
   ]
  },
  {
   "cell_type": "code",
   "execution_count": 19,
   "metadata": {
    "collapsed": true
   },
   "outputs": [],
   "source": [
    "class Task:\n",
    "    def __init__(self, time):\n",
    "        self.timestamp = time\n",
    "        self.pages = random.randrange(1, 21)\n",
    "    def get_stamp(self):\n",
    "        return self.timestamp\n",
    "    def get_pages(self):\n",
    "        return self.pages\n",
    "    def wait_time(self, current_time):\n",
    "        return current_time - self.timestamp"
   ]
  },
  {
   "cell_type": "markdown",
   "metadata": {},
   "source": [
    "#### Part 3\n",
    "\n",
    "The main simulation implements the algorithm described above. The print_queue object is\n",
    "an instance of our existing queue ADT. A boolean helper function, new_print_task, decides\n",
    "whether a new printing task has been created. We have again chosen to use the randrange\n",
    "function from the random module to return a random integer between 1 and 180. Print tasks\n",
    "arrive once every 180 seconds. By arbitrarily choosing 180 from the range of random integers,\n",
    "we can simulate this random event. The simulation function allows us to set the total time and\n",
    "the pages per minute for the printer."
   ]
  },
  {
   "cell_type": "code",
   "execution_count": 20,
   "metadata": {
    "collapsed": true
   },
   "outputs": [],
   "source": [
    "def simulation(num_seconds, pages_per_minute):\n",
    "    lab_printer = Printer(pages_per_minute)\n",
    "    print_queue = Queue()\n",
    "    waiting_times = []\n",
    "    for current_second in range(num_seconds):\n",
    "        if new_print_task():\n",
    "            task = Task(current_second)\n",
    "            print_queue.enqueue(task)\n",
    "        if (not lab_printer.busy()) and (not print_queue.is_empty()):\n",
    "            next_task = print_queue.dequeue()\n",
    "            waiting_times.append(next_task.wait_time(current_second))\n",
    "            lab_printer.start_next(next_task)\n",
    "        lab_printer.tick()\n",
    "    average_wait = sum(waiting_times) / len(waiting_times)\n",
    "    print(\"Average Wait %6.2f secs %3d tasks remaining.\"%(average_wait, print_queue.size()))\n",
    "\n",
    "def new_print_task():\n",
    "    num = random.randrange(1, 181)\n",
    "    if num == 180:\n",
    "        return True\n",
    "    else:\n",
    "        return False\n",
    "    for i in range(10):\n",
    "        simulation(3600, 5)"
   ]
  },
  {
   "cell_type": "markdown",
   "metadata": {},
   "source": [
    "#### Part 4\n",
    "When we run the simulation, we should not be concerned that the results are different each\n",
    "time. This is due to the probabilistic nature of the random numbers. We are interested in the\n",
    "trends that may be occurring as the parameters to the simulation are adjusted. Here are some\n",
    "results.\n",
    "First, we will run the simulation for a period of 60 minutes (3, 600 seconds) using a page\n",
    "rate of five pages per minute. In addition, we will run 10 independent trials. Remember that\n",
    "because the simulation works with random numbers each run will return different results."
   ]
  },
  {
   "cell_type": "code",
   "execution_count": 21,
   "metadata": {},
   "outputs": [
    {
     "name": "stdout",
     "output_type": "stream",
     "text": [
      "Average Wait 264.65 secs   0 tasks remaining.\n",
      "Average Wait 172.89 secs   3 tasks remaining.\n",
      "Average Wait 182.88 secs   0 tasks remaining.\n",
      "Average Wait  97.70 secs   3 tasks remaining.\n",
      "Average Wait  58.06 secs   3 tasks remaining.\n",
      "Average Wait  79.88 secs   0 tasks remaining.\n",
      "Average Wait  69.31 secs   2 tasks remaining.\n",
      "Average Wait  46.24 secs   0 tasks remaining.\n",
      "Average Wait  41.65 secs   0 tasks remaining.\n",
      "Average Wait 141.89 secs   0 tasks remaining.\n"
     ]
    }
   ],
   "source": [
    "for i in range(10):\n",
    "    simulation(3600, 5)"
   ]
  },
  {
   "cell_type": "markdown",
   "metadata": {},
   "source": [
    "After running our 10 trials we can see that the mean average wait time is 122.155 seconds. You\n",
    "can also see that there is a large variation in the average weight time with a minimum average\n",
    "of 17.27 seconds and a maximum of 239.61 seconds. You may also notice that in only two of\n",
    "the cases were all the tasks completed.\n",
    "Now, we will adjust the page rate to 10 pages per minute, and run the 10 trials again, with a\n",
    "faster page rate our hope would be that more tasks would be completed in the one hour time\n",
    "frame."
   ]
  },
  {
   "cell_type": "code",
   "execution_count": 22,
   "metadata": {},
   "outputs": [
    {
     "name": "stdout",
     "output_type": "stream",
     "text": [
      "Average Wait   9.38 secs   0 tasks remaining.\n",
      "Average Wait   4.30 secs   0 tasks remaining.\n",
      "Average Wait  21.90 secs   1 tasks remaining.\n",
      "Average Wait  37.74 secs   0 tasks remaining.\n",
      "Average Wait  12.33 secs   0 tasks remaining.\n",
      "Average Wait  45.23 secs   0 tasks remaining.\n",
      "Average Wait   7.81 secs   0 tasks remaining.\n",
      "Average Wait   6.15 secs   0 tasks remaining.\n",
      "Average Wait  32.59 secs   2 tasks remaining.\n",
      "Average Wait  15.25 secs   0 tasks remaining.\n"
     ]
    }
   ],
   "source": [
    "for i in range(10):\n",
    "    simulation(3600, 10)"
   ]
  },
  {
   "cell_type": "code",
   "execution_count": null,
   "metadata": {
    "collapsed": true
   },
   "outputs": [],
   "source": []
  },
  {
   "cell_type": "code",
   "execution_count": null,
   "metadata": {
    "collapsed": true
   },
   "outputs": [],
   "source": []
  },
  {
   "cell_type": "code",
   "execution_count": null,
   "metadata": {
    "collapsed": true
   },
   "outputs": [],
   "source": []
  },
  {
   "cell_type": "code",
   "execution_count": null,
   "metadata": {
    "collapsed": true
   },
   "outputs": [],
   "source": []
  }
 ],
 "metadata": {
  "kernelspec": {
   "display_name": "Python 3",
   "language": "python",
   "name": "python3"
  },
  "language_info": {
   "codemirror_mode": {
    "name": "ipython",
    "version": 3
   },
   "file_extension": ".py",
   "mimetype": "text/x-python",
   "name": "python",
   "nbconvert_exporter": "python",
   "pygments_lexer": "ipython3",
   "version": "3.5.3"
  }
 },
 "nbformat": 4,
 "nbformat_minor": 2
}
