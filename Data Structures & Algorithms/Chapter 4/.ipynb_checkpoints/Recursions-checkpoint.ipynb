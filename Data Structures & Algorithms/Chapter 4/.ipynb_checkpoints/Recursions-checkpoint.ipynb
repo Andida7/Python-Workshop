{
 "cells": [
  {
   "cell_type": "markdown",
   "metadata": {},
   "source": [
    "## Recursion"
   ]
  },
  {
   "cell_type": "code",
   "execution_count": 1,
   "metadata": {
    "collapsed": true
   },
   "outputs": [],
   "source": [
    "import time\n",
    "def sum_of_n_2(n):\n",
    "    start = time.time()\n",
    "    the_sum = 0\n",
    "    for i in range(1, n+1):\n",
    "        the_sum = the_sum + i\n",
    "    end = time.time()\n",
    "    return the_sum,end-start"
   ]
  },
  {
   "cell_type": "code",
   "execution_count": 4,
   "metadata": {},
   "outputs": [
    {
     "name": "stdout",
     "output_type": "stream",
     "text": [
      "Sum is 50005000 required  0.0000000 seconds\n",
      "Sum is 50005000 required  0.0000000 seconds\n",
      "Sum is 50005000 required  0.0039935 seconds\n",
      "Sum is 50005000 required  0.0039997 seconds\n",
      "Sum is 50005000 required  0.0000000 seconds\n"
     ]
    }
   ],
   "source": [
    "for i in range(5):\n",
    "    print(\"Sum is %d required %10.7f seconds\" % sum_of_n_2(10000))"
   ]
  },
  {
   "cell_type": "code",
   "execution_count": 5,
   "metadata": {},
   "outputs": [
    {
     "name": "stdout",
     "output_type": "stream",
     "text": [
      "Sum is 500000500000 required  0.1395304 seconds\n",
      "Sum is 500000500000 required  0.0500040 seconds\n",
      "Sum is 500000500000 required  0.0689962 seconds\n",
      "Sum is 500000500000 required  0.0614181 seconds\n",
      "Sum is 500000500000 required  0.0547259 seconds\n"
     ]
    }
   ],
   "source": [
    "for i in range(5):\n",
    "    print(\"Sum is %d required %10.7f seconds\" % sum_of_n_2(1000000))"
   ]
  },
  {
   "cell_type": "code",
   "execution_count": null,
   "metadata": {
    "collapsed": true
   },
   "outputs": [],
   "source": []
  },
  {
   "cell_type": "code",
   "execution_count": null,
   "metadata": {
    "collapsed": true
   },
   "outputs": [],
   "source": []
  },
  {
   "cell_type": "code",
   "execution_count": 6,
   "metadata": {
    "collapsed": true
   },
   "outputs": [],
   "source": [
    "def anagram_solution4(s1, s2):\n",
    "    c1 = [0] * 26\n",
    "    c2 = [0] * 26\n",
    "    for i in range(len(s1)):\n",
    "        pos = ord(s1[i]) - ord('a')\n",
    "        c1[pos] = c1[pos] + 1\n",
    "    for i in range(len(s2)):\n",
    "        pos = ord(s2[i]) - ord('a')\n",
    "        c2[pos] = c2[pos] + 1\n",
    "    j = 0\n",
    "    still_ok = True\n",
    "    while j < 26 and still_ok:\n",
    "        if c1[j] == c2[j]:\n",
    "            j = j + 1\n",
    "        else:\n",
    "            still_ok = False\n",
    "    return still_ok"
   ]
  },
  {
   "cell_type": "code",
   "execution_count": 36,
   "metadata": {
    "collapsed": true
   },
   "outputs": [],
   "source": [
    "def my_anagram_sol(s1,s2):\n",
    "    s1 = s1.lower().replace(' ','')\n",
    "    s2 = s2.lower().replace(' ','')\n",
    "    letter_counts_1 = {letter: s1.count(letter) for letter in set(s1)}\n",
    "    letter_counts_1\n",
    "    \n",
    "    letter_counts_2 = {letter: s2.count(letter) for letter in set(s2)}\n",
    "    letter_counts_2\n",
    "    \n",
    "    if(letter_counts_1 == letter_counts_2):\n",
    "        return(True)\n",
    "    else:\n",
    "        return(False)"
   ]
  },
  {
   "cell_type": "code",
   "execution_count": 37,
   "metadata": {},
   "outputs": [
    {
     "name": "stdout",
     "output_type": "stream",
     "text": [
      "True\n",
      "0.0\n"
     ]
    }
   ],
   "source": [
    "start = time.time()\n",
    "print(my_anagram_sol('The Great New York Rapid Transit Tunnel','Giant work in street partly underneath'))\n",
    "end = time.time()\n",
    "print(end-start)"
   ]
  },
  {
   "cell_type": "code",
   "execution_count": 32,
   "metadata": {
    "collapsed": true
   },
   "outputs": [],
   "source": [
    "s1 = 'The Great New York Rapid Transit Tunnel'"
   ]
  },
  {
   "cell_type": "code",
   "execution_count": 33,
   "metadata": {
    "collapsed": true
   },
   "outputs": [],
   "source": [
    "s1 = s1.lower().replace(' ','')"
   ]
  },
  {
   "cell_type": "code",
   "execution_count": 34,
   "metadata": {
    "collapsed": true
   },
   "outputs": [],
   "source": [
    "letter_counts_1 = {letter: s1.count(letter) for letter in set(s1)}"
   ]
  },
  {
   "cell_type": "code",
   "execution_count": 35,
   "metadata": {},
   "outputs": [
    {
     "data": {
      "text/plain": [
       "{'a': 3,\n",
       " 'd': 1,\n",
       " 'e': 4,\n",
       " 'g': 1,\n",
       " 'h': 1,\n",
       " 'i': 2,\n",
       " 'k': 1,\n",
       " 'l': 1,\n",
       " 'n': 4,\n",
       " 'o': 1,\n",
       " 'p': 1,\n",
       " 'r': 4,\n",
       " 's': 1,\n",
       " 't': 5,\n",
       " 'u': 1,\n",
       " 'w': 1,\n",
       " 'y': 1}"
      ]
     },
     "execution_count": 35,
     "metadata": {},
     "output_type": "execute_result"
    }
   ],
   "source": [
    "letter_counts_1"
   ]
  },
  {
   "cell_type": "markdown",
   "metadata": {},
   "source": [
    "## Draw a Tree with Turtle"
   ]
  },
  {
   "cell_type": "code",
   "execution_count": 46,
   "metadata": {
    "collapsed": true
   },
   "outputs": [],
   "source": [
    "def tree(branch_len, t):\n",
    "    if branch_len > 5:\n",
    "        t.forward(branch_len)\n",
    "        t.right(20)\n",
    "        tree(branch_len - 15, t)\n",
    "        t.left(40)\n",
    "        tree(branch_len - 15, t)\n",
    "        t.right(20)\n",
    "        t.backward(branch_len)\n",
    "def main():\n",
    "    t = turtle.Turtle()\n",
    "    my_win = turtle.Screen()\n",
    "    t.left(90)\n",
    "    t.up()\n",
    "    t.backward(100)\n",
    "    t.down()\n",
    "    t.color(\"green\")\n",
    "    tree(75, t)\n",
    "    my_win.exitonclick()\n",
    "    \n",
    "main()"
   ]
  },
  {
   "cell_type": "code",
   "execution_count": null,
   "metadata": {
    "collapsed": true
   },
   "outputs": [],
   "source": []
  },
  {
   "cell_type": "code",
   "execution_count": null,
   "metadata": {
    "collapsed": true
   },
   "outputs": [],
   "source": []
  }
 ],
 "metadata": {
  "anaconda-cloud": {},
  "kernelspec": {
   "display_name": "Python 3",
   "language": "python",
   "name": "python3"
  },
  "language_info": {
   "codemirror_mode": {
    "name": "ipython",
    "version": 3
   },
   "file_extension": ".py",
   "mimetype": "text/x-python",
   "name": "python",
   "nbconvert_exporter": "python",
   "pygments_lexer": "ipython3",
   "version": "3.5.3"
  }
 },
 "nbformat": 4,
 "nbformat_minor": 2
}
