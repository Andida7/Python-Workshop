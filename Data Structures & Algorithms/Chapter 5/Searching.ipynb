{
 "cells": [
  {
   "cell_type": "code",
   "execution_count": 1,
   "metadata": {
    "collapsed": true
   },
   "outputs": [],
   "source": [
    "# Sequential Search Implementation\n",
    "def sequential_search(input_list, item):\n",
    "    pos = 0\n",
    "    found = False\n",
    "    while pos < len(input_list) and not found:\n",
    "        if input_list[pos] == item:\n",
    "            found = True\n",
    "        else:\n",
    "            pos = pos+1\n",
    "    return found"
   ]
  },
  {
   "cell_type": "code",
   "execution_count": 2,
   "metadata": {
    "collapsed": true
   },
   "outputs": [],
   "source": [
    "# Binary Search\n",
    "def binary_search(input_list, item):\n",
    "    first = 0\n",
    "    last = len(input_list) - 1\n",
    "    found = False\n",
    "    while first <= last and not found:\n",
    "        midpoint = (first + last) // 2\n",
    "        if input_list[midpoint] == item:\n",
    "            found = True\n",
    "        elif item < input_list[midpoint]:\n",
    "                last = midpoint - 1\n",
    "        else:\n",
    "            first = midpoint + 1\n",
    "    return found"
   ]
  },
  {
   "cell_type": "code",
   "execution_count": 3,
   "metadata": {
    "collapsed": true
   },
   "outputs": [],
   "source": [
    "# Recursive Binary Search\n",
    "def rbs(input_list, item):\n",
    "    if len(input_list) == 0:\n",
    "        return False\n",
    "    else:\n",
    "        mp = len(input_list) // 2\n",
    "        if input_list[mp] == item:\n",
    "            return True\n",
    "        elif item < input_list[mp]:\n",
    "            return rbs(input_list[:mp], item)\n",
    "        else:\n",
    "            return rbs(input_list[mp + 1:], item)"
   ]
  },
  {
   "cell_type": "code",
   "execution_count": null,
   "metadata": {
    "collapsed": true
   },
   "outputs": [],
   "source": []
  }
 ],
 "metadata": {
  "kernelspec": {
   "display_name": "Python 3",
   "language": "python",
   "name": "python3"
  },
  "language_info": {
   "codemirror_mode": {
    "name": "ipython",
    "version": 3
   },
   "file_extension": ".py",
   "mimetype": "text/x-python",
   "name": "python",
   "nbconvert_exporter": "python",
   "pygments_lexer": "ipython3",
   "version": "3.5.3"
  }
 },
 "nbformat": 4,
 "nbformat_minor": 2
}
