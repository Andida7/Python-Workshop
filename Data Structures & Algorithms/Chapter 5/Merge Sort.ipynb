{
 "cells": [
  {
   "cell_type": "code",
   "execution_count": null,
   "metadata": {
    "collapsed": true
   },
   "outputs": [],
   "source": [
    "def merge_sort(input_list):\n",
    "    if len(input_list)>1:\n",
    "        mid = len(input_list)//2\n",
    "        left_half = input_list[:mid]\n",
    "        right_half = input_list[mid:]\n",
    "\n",
    "        merge_sort(left_half)\n",
    "        merge_sort(right_half)\n",
    "\n",
    "        i=0\n",
    "        j=0\n",
    "        k=0\n",
    "        while i < len(left_half) and j < len(right_half):\n",
    "            if left_half[i] < right_half[j]:\n",
    "                input_list[k]=left_half[i]\n",
    "                i=i+1\n",
    "            else:\n",
    "                input_list[k]=right_half[j]\n",
    "                j=j+1\n",
    "            k=k+1\n",
    "\n",
    "        while i < len(left_half):\n",
    "            print('First')\n",
    "            input_list[k]=left_half[i]\n",
    "            print(input_list[k])\n",
    "            i=i+1\n",
    "            k=k+1\n",
    "\n",
    "        while j < len(right_half):\n",
    "            print('Second')\n",
    "            input_list[k]=right_half[j]\n",
    "            print(input_list[k])\n",
    "            j=j+1\n",
    "            k=k+1"
   ]
  }
 ],
 "metadata": {
  "kernelspec": {
   "display_name": "Python 3",
   "language": "python",
   "name": "python3"
  },
  "language_info": {
   "codemirror_mode": {
    "name": "ipython",
    "version": 3
   },
   "file_extension": ".py",
   "mimetype": "text/x-python",
   "name": "python",
   "nbconvert_exporter": "python",
   "pygments_lexer": "ipython3",
   "version": "3.5.3"
  }
 },
 "nbformat": 4,
 "nbformat_minor": 2
}
