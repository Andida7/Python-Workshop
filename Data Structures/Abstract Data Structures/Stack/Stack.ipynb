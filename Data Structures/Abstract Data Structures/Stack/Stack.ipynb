{
 "cells": [
  {
   "cell_type": "code",
   "execution_count": null,
   "metadata": {
    "collapsed": true
   },
   "outputs": [],
   "source": [
    "# Complete implementation of a stack ADT (ADT stands for Abstract Data Types)\n",
    "class Stack:\n",
    "    # Constructor\n",
    "    def __init__(self):\n",
    "        self.items = []\n",
    "    # all stack operations as methods\n",
    "    \n",
    "    # is_empty() tests to see whether the stack is empty. It needs no parameters and returns a boolean value.\n",
    "    def is_empty(self):\n",
    "        return self.items == []\n",
    "    def push(self, item): #It needs the item and returns nothing.\n",
    "        self.items.append(item)\n",
    "    def pop(self): # It needs no parameters and returns the item. The stack is modified.\n",
    "        return self.items.pop()\n",
    "    # returns the top item from the stack but does not remove it. It needs no parameters.\n",
    "    # The stack is not modified.\n",
    "    def top(self): \n",
    "        return self.items[len(self.items)-1]\n",
    "    # size() returns the number of items on the stack. It needs no parameters and returns an integer.\n",
    "    def size(self):\n",
    "        return len(self.items)"
   ]
  }
 ],
 "metadata": {
  "kernelspec": {
   "display_name": "Python 3",
   "language": "python",
   "name": "python3"
  },
  "language_info": {
   "codemirror_mode": {
    "name": "ipython",
    "version": 3
   },
   "file_extension": ".py",
   "mimetype": "text/x-python",
   "name": "python",
   "nbconvert_exporter": "python",
   "pygments_lexer": "ipython3",
   "version": "3.5.3"
  }
 },
 "nbformat": 4,
 "nbformat_minor": 2
}
